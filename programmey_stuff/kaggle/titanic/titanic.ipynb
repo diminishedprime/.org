{
 "cells": [
  {
   "cell_type": "code",
   "execution_count": 1,
   "metadata": {
    "collapsed": false
   },
   "outputs": [],
   "source": [
    "%matplotlib inline"
   ]
  },
  {
   "cell_type": "code",
   "execution_count": 2,
   "metadata": {
    "collapsed": true
   },
   "outputs": [],
   "source": [
    "import numpy as np\n",
    "import pandas as pd\n",
    "import matplotlib\n",
    "import matplotlib.pyplot as plt\n",
    "import scipy.stats as stats\n",
    "matplotlib.style.use('ggplot')"
   ]
  },
  {
   "cell_type": "markdown",
   "metadata": {},
   "source": [
    "# NameToCategory\n",
    "Here, I create a function that's usedfor creating a \"Title\" feature by pulling out `Mr` `Miss`, etc. \n",
    "\n",
    "For groups that only a few ended up being bucketed into, I made a catch-all `Other` group."
   ]
  },
  {
   "cell_type": "code",
   "execution_count": 3,
   "metadata": {
    "collapsed": true
   },
   "outputs": [],
   "source": [
    "# pull out name into something more useful. \n",
    "import re\n",
    "mrPattern = re.compile('.*Mr\\..*')\n",
    "missPattern = re.compile('.*Miss\\..*')\n",
    "masterPattern = re.compile('.*Master\\..*')\n",
    "mrsPattern = re.compile('.*Mrs\\..*')\n",
    "donPattern = re.compile('.*Don\\..*')\n",
    "revPattern = re.compile('.*Rev\\..*')\n",
    "drPattern = re.compile('.*Dr\\..*')\n",
    "mmePattern = re.compile('.*Mme\\..*')\n",
    "msPattern = re.compile('.*Ms\\..*')\n",
    "majorPattern = re.compile('.*Major\\..*')\n",
    "ladyPattern = re.compile('.*Lady\\..*')\n",
    "sirPattern = re.compile('.*Sir\\..*')\n",
    "mllePattern = re.compile('.*Mlle\\..*')\n",
    "colPattern = re.compile('.*Col\\..*')\n",
    "captPattern = re.compile('.*Capt\\..*')\n",
    "countessPattern = re.compile('.*Countess\\..*')\n",
    "jonkheerPattern = re.compile('.*Jonkheer\\..*')\n",
    "\n",
    "def nameToCategory(name):\n",
    "    if (mrPattern.match(name)):\n",
    "        return 'Mr'\n",
    "    elif (jonkheerPattern.match(name)):\n",
    "        return 'Other'\n",
    "    elif (countessPattern.match(name)):\n",
    "        return 'Other'\n",
    "    elif (captPattern.match(name)):\n",
    "        return 'Other'\n",
    "    elif (missPattern.match(name)):\n",
    "        return 'Miss'\n",
    "    elif (masterPattern.match(name)):\n",
    "        return 'Master'\n",
    "    elif (mrsPattern.match(name)):\n",
    "        return 'Mrs'\n",
    "    elif (donPattern.match(name)):\n",
    "        return 'Other'\n",
    "    elif (revPattern.match(name)):\n",
    "        return 'Other'\n",
    "    elif (drPattern.match(name)):\n",
    "        return 'Other'\n",
    "    elif (mmePattern.match(name)):\n",
    "        return 'Mrs'\n",
    "    elif (msPattern.match(name)):\n",
    "        return 'Miss'\n",
    "    elif (majorPattern.match(name)):\n",
    "        return 'Other'\n",
    "    elif (ladyPattern.match(name)):\n",
    "        return 'Other'\n",
    "    elif (sirPattern.match(name)):\n",
    "        return 'Other'\n",
    "    elif (mllePattern.match(name)):\n",
    "        return 'Miss'\n",
    "    elif (colPattern.match(name)):\n",
    "        return 'Other'\n",
    "    return 'Other'\n",
    "#    raise Exception(name)"
   ]
  },
  {
   "cell_type": "code",
   "execution_count": 4,
   "metadata": {
    "collapsed": false
   },
   "outputs": [
    {
     "data": {
      "text/html": [
       "<div>\n",
       "<table border=\"1\" class=\"dataframe\">\n",
       "  <thead>\n",
       "    <tr style=\"text-align: right;\">\n",
       "      <th></th>\n",
       "      <th>PassengerId</th>\n",
       "      <th>Survived</th>\n",
       "      <th>Pclass</th>\n",
       "      <th>Name</th>\n",
       "      <th>Sex</th>\n",
       "      <th>Age</th>\n",
       "      <th>SibSp</th>\n",
       "      <th>Parch</th>\n",
       "      <th>Ticket</th>\n",
       "      <th>Fare</th>\n",
       "      <th>Cabin</th>\n",
       "      <th>Embarked</th>\n",
       "      <th>Title</th>\n",
       "    </tr>\n",
       "  </thead>\n",
       "  <tbody>\n",
       "    <tr>\n",
       "      <th>886</th>\n",
       "      <td>887</td>\n",
       "      <td>0</td>\n",
       "      <td>2</td>\n",
       "      <td>Montvila, Rev. Juozas</td>\n",
       "      <td>male</td>\n",
       "      <td>27.0</td>\n",
       "      <td>0</td>\n",
       "      <td>0</td>\n",
       "      <td>211536</td>\n",
       "      <td>13.00</td>\n",
       "      <td>n</td>\n",
       "      <td>S</td>\n",
       "      <td>Other</td>\n",
       "    </tr>\n",
       "    <tr>\n",
       "      <th>887</th>\n",
       "      <td>888</td>\n",
       "      <td>1</td>\n",
       "      <td>1</td>\n",
       "      <td>Graham, Miss. Margaret Edith</td>\n",
       "      <td>female</td>\n",
       "      <td>19.0</td>\n",
       "      <td>0</td>\n",
       "      <td>0</td>\n",
       "      <td>112053</td>\n",
       "      <td>30.00</td>\n",
       "      <td>B</td>\n",
       "      <td>S</td>\n",
       "      <td>Miss</td>\n",
       "    </tr>\n",
       "    <tr>\n",
       "      <th>888</th>\n",
       "      <td>889</td>\n",
       "      <td>0</td>\n",
       "      <td>3</td>\n",
       "      <td>Johnston, Miss. Catherine Helen \"Carrie\"</td>\n",
       "      <td>female</td>\n",
       "      <td>24.0</td>\n",
       "      <td>1</td>\n",
       "      <td>2</td>\n",
       "      <td>W./C. 6607</td>\n",
       "      <td>23.45</td>\n",
       "      <td>n</td>\n",
       "      <td>S</td>\n",
       "      <td>Miss</td>\n",
       "    </tr>\n",
       "    <tr>\n",
       "      <th>889</th>\n",
       "      <td>890</td>\n",
       "      <td>1</td>\n",
       "      <td>1</td>\n",
       "      <td>Behr, Mr. Karl Howell</td>\n",
       "      <td>male</td>\n",
       "      <td>26.0</td>\n",
       "      <td>0</td>\n",
       "      <td>0</td>\n",
       "      <td>111369</td>\n",
       "      <td>30.00</td>\n",
       "      <td>C</td>\n",
       "      <td>C</td>\n",
       "      <td>Mr</td>\n",
       "    </tr>\n",
       "    <tr>\n",
       "      <th>890</th>\n",
       "      <td>891</td>\n",
       "      <td>0</td>\n",
       "      <td>3</td>\n",
       "      <td>Dooley, Mr. Patrick</td>\n",
       "      <td>male</td>\n",
       "      <td>32.0</td>\n",
       "      <td>0</td>\n",
       "      <td>0</td>\n",
       "      <td>370376</td>\n",
       "      <td>7.75</td>\n",
       "      <td>n</td>\n",
       "      <td>Q</td>\n",
       "      <td>Mr</td>\n",
       "    </tr>\n",
       "  </tbody>\n",
       "</table>\n",
       "</div>"
      ],
      "text/plain": [
       "     PassengerId  Survived  Pclass                                      Name  \\\n",
       "886          887         0       2                     Montvila, Rev. Juozas   \n",
       "887          888         1       1              Graham, Miss. Margaret Edith   \n",
       "888          889         0       3  Johnston, Miss. Catherine Helen \"Carrie\"   \n",
       "889          890         1       1                     Behr, Mr. Karl Howell   \n",
       "890          891         0       3                       Dooley, Mr. Patrick   \n",
       "\n",
       "        Sex   Age  SibSp  Parch      Ticket   Fare Cabin Embarked  Title  \n",
       "886    male  27.0      0      0      211536  13.00     n        S  Other  \n",
       "887  female  19.0      0      0      112053  30.00     B        S   Miss  \n",
       "888  female  24.0      1      2  W./C. 6607  23.45     n        S   Miss  \n",
       "889    male  26.0      0      0      111369  30.00     C        C     Mr  \n",
       "890    male  32.0      0      0      370376   7.75     n        Q     Mr  "
      ]
     },
     "execution_count": 4,
     "metadata": {},
     "output_type": "execute_result"
    }
   ],
   "source": [
    "import math\n",
    "\n",
    "def scrub(filePath):\n",
    "    data = pd.read_csv(filePath)\n",
    "    char_cabin = data['Cabin'].astype(str)\n",
    "    new_cabin = np.array([cabin[0] for cabin in char_cabin])\n",
    "    data['Cabin'] = pd.Categorical(new_cabin)\n",
    "\n",
    "    c1Median = data.Age[data.Pclass == 1].median()\n",
    "    c2Median = data.Age[data.Pclass == 2].median()\n",
    "    c3Median = data.Age[data.Pclass == 3].median()\n",
    "\n",
    "    def medianFor(row):\n",
    "        if (row['Pclass'] == 1):\n",
    "            return c1Median\n",
    "        elif (row['Pclass'] == 2):\n",
    "            return c2Median\n",
    "        elif (row['Pclass'] == 3):\n",
    "            return c3Median\n",
    "        else:\n",
    "            raise Exception('Goofed')\n",
    "    \n",
    "    def updateAge(row):\n",
    "        if (math.isnan(row['Age'])):\n",
    "            median = medianFor(row)\n",
    "            row['Age'] = median\n",
    "        return row\n",
    "    \n",
    "    # Update the missing ages with the median\n",
    "    data = data.apply(updateAge, axis=1)\n",
    "    \n",
    "    new_embarked = np.where(data['Embarked'].isnull()\n",
    "                           , 'S'\n",
    "                           , data['Embarked'])\n",
    "    \n",
    "    data['Embarked'] = new_embarked\n",
    "    \n",
    "    data['Title'] = data['Name'].apply(nameToCategory)\n",
    "    \n",
    "    \n",
    "    return data\n",
    "\n",
    "    \n",
    "titanic_train = scrub('train.csv')\n",
    "\n",
    "titanic_train.tail()"
   ]
  },
  {
   "cell_type": "code",
   "execution_count": 5,
   "metadata": {
    "collapsed": false
   },
   "outputs": [
    {
     "data": {
      "text/plain": [
       "PassengerId    0\n",
       "Survived       0\n",
       "Pclass         0\n",
       "Name           0\n",
       "Sex            0\n",
       "Age            0\n",
       "SibSp          0\n",
       "Parch          0\n",
       "Ticket         0\n",
       "Fare           0\n",
       "Cabin          0\n",
       "Embarked       0\n",
       "dtype: int64"
      ]
     },
     "execution_count": 5,
     "metadata": {},
     "output_type": "execute_result"
    }
   ],
   "source": [
    "temp = pd.read_csv('train.csv')\n",
    "temp[temp['Fare'].isnull()].count()\n"
   ]
  },
  {
   "cell_type": "code",
   "execution_count": 6,
   "metadata": {
    "collapsed": true
   },
   "outputs": [],
   "source": [
    "from sklearn import linear_model\n",
    "from sklearn import preprocessing"
   ]
  },
  {
   "cell_type": "code",
   "execution_count": 7,
   "metadata": {
    "collapsed": false
   },
   "outputs": [
    {
     "name": "stdout",
     "output_type": "stream",
     "text": [
      "[ 3.61009667]\n",
      "[[-0.95636873 -0.06094102 -2.47985096 -0.07196262 -0.15789623 -0.02725761]]\n"
     ]
    }
   ],
   "source": [
    "label_encoder = label_encoder = preprocessing.LabelEncoder()\n",
    "\n",
    "def trainFeaturesFor(df):\n",
    "    encoded_sex = label_encoder.fit_transform(df[\"Sex\"])\n",
    "    encoded_class = label_encoder.fit_transform(df[\"Pclass\"])\n",
    "    encoded_cabin = label_encoder.fit_transform(df[\"Cabin\"])\n",
    "    encoded_title = label_encoder.fit_transform(df[\"Title\"])\n",
    "    encoded_parch = label_encoder.fit_transform(df[\"Parch\"])\n",
    "\n",
    "    train_features = pd.DataFrame([ encoded_class\n",
    "                                  , encoded_cabin\n",
    "                                  , encoded_sex\n",
    "                                  , encoded_title\n",
    "                                  , encoded_parch\n",
    "                                  , df[\"Age\"]\n",
    "                                  ]).T\n",
    "    return train_features\n",
    "\n",
    "def trainModel(df):\n",
    "    train_features = trainFeaturesFor(df)\n",
    "    log_model = linear_model.LogisticRegression()\n",
    "    log_model.fit( X = train_features\n",
    "                 , y = df[\"Survived\"])\n",
    "    return log_model\n",
    "\n",
    "log_model = trainModel(titanic_train)\n",
    "\n",
    "preds = log_model.predict(X=trainFeaturesFor(titanic_train))\n",
    "\n",
    "print(log_model.intercept_)\n",
    "print(log_model.coef_)"
   ]
  },
  {
   "cell_type": "code",
   "execution_count": 8,
   "metadata": {
    "collapsed": false
   },
   "outputs": [
    {
     "data": {
      "text/html": [
       "<div>\n",
       "<table border=\"1\" class=\"dataframe\">\n",
       "  <thead>\n",
       "    <tr style=\"text-align: right;\">\n",
       "      <th>Survived</th>\n",
       "      <th>0</th>\n",
       "      <th>1</th>\n",
       "    </tr>\n",
       "    <tr>\n",
       "      <th>row_0</th>\n",
       "      <th></th>\n",
       "      <th></th>\n",
       "    </tr>\n",
       "  </thead>\n",
       "  <tbody>\n",
       "    <tr>\n",
       "      <th>0</th>\n",
       "      <td>468</td>\n",
       "      <td>103</td>\n",
       "    </tr>\n",
       "    <tr>\n",
       "      <th>1</th>\n",
       "      <td>81</td>\n",
       "      <td>239</td>\n",
       "    </tr>\n",
       "  </tbody>\n",
       "</table>\n",
       "</div>"
      ],
      "text/plain": [
       "Survived    0    1\n",
       "row_0             \n",
       "0         468  103\n",
       "1          81  239"
      ]
     },
     "execution_count": 8,
     "metadata": {},
     "output_type": "execute_result"
    }
   ],
   "source": [
    "pd.crosstab(preds,titanic_train[\"Survived\"])"
   ]
  },
  {
   "cell_type": "code",
   "execution_count": 9,
   "metadata": {
    "collapsed": false
   },
   "outputs": [
    {
     "data": {
      "text/plain": [
       "0.79349046015712688"
      ]
     },
     "execution_count": 9,
     "metadata": {},
     "output_type": "execute_result"
    }
   ],
   "source": [
    "log_model.score( X=trainFeaturesFor(titanic_train)\n",
    "               , y=titanic_train['Survived'])"
   ]
  },
  {
   "cell_type": "code",
   "execution_count": 10,
   "metadata": {
    "collapsed": true
   },
   "outputs": [],
   "source": [
    "titanic_test = scrub('test.csv')\n",
    "test_features = trainFeaturesFor(titanic_test)\n",
    "test_preds = log_model.predict(X=test_features)\n"
   ]
  },
  {
   "cell_type": "code",
   "execution_count": 11,
   "metadata": {
    "collapsed": false
   },
   "outputs": [],
   "source": [
    "\n",
    "submission = pd.DataFrame({ \"PassengerId\": titanic_test[\"PassengerId\"]\n",
    "                          , \"Survived\":test_preds})\n",
    "\n",
    "submission.to_csv( \"submission.csv\"\n",
    "                 , index=False)"
   ]
  },
  {
   "cell_type": "markdown",
   "metadata": {},
   "source": [
    "# Take 2: This time with cross-validation\n",
    "## And also trying out a Neural Net"
   ]
  },
  {
   "cell_type": "code",
   "execution_count": 12,
   "metadata": {
    "collapsed": false
   },
   "outputs": [
    {
     "data": {
      "text/html": [
       "<div>\n",
       "<table border=\"1\" class=\"dataframe\">\n",
       "  <thead>\n",
       "    <tr style=\"text-align: right;\">\n",
       "      <th></th>\n",
       "      <th>PassengerId</th>\n",
       "      <th>Survived</th>\n",
       "      <th>Pclass</th>\n",
       "      <th>Name</th>\n",
       "      <th>Sex</th>\n",
       "      <th>Age</th>\n",
       "      <th>SibSp</th>\n",
       "      <th>Parch</th>\n",
       "      <th>Ticket</th>\n",
       "      <th>Fare</th>\n",
       "      <th>Cabin</th>\n",
       "      <th>Embarked</th>\n",
       "      <th>Title</th>\n",
       "    </tr>\n",
       "  </thead>\n",
       "  <tbody>\n",
       "    <tr>\n",
       "      <th>886</th>\n",
       "      <td>887</td>\n",
       "      <td>0</td>\n",
       "      <td>2</td>\n",
       "      <td>Montvila, Rev. Juozas</td>\n",
       "      <td>male</td>\n",
       "      <td>27.0</td>\n",
       "      <td>0</td>\n",
       "      <td>0</td>\n",
       "      <td>211536</td>\n",
       "      <td>13.00</td>\n",
       "      <td>n</td>\n",
       "      <td>S</td>\n",
       "      <td>Other</td>\n",
       "    </tr>\n",
       "    <tr>\n",
       "      <th>887</th>\n",
       "      <td>888</td>\n",
       "      <td>1</td>\n",
       "      <td>1</td>\n",
       "      <td>Graham, Miss. Margaret Edith</td>\n",
       "      <td>female</td>\n",
       "      <td>19.0</td>\n",
       "      <td>0</td>\n",
       "      <td>0</td>\n",
       "      <td>112053</td>\n",
       "      <td>30.00</td>\n",
       "      <td>B</td>\n",
       "      <td>S</td>\n",
       "      <td>Miss</td>\n",
       "    </tr>\n",
       "    <tr>\n",
       "      <th>888</th>\n",
       "      <td>889</td>\n",
       "      <td>0</td>\n",
       "      <td>3</td>\n",
       "      <td>Johnston, Miss. Catherine Helen \"Carrie\"</td>\n",
       "      <td>female</td>\n",
       "      <td>24.0</td>\n",
       "      <td>1</td>\n",
       "      <td>2</td>\n",
       "      <td>W./C. 6607</td>\n",
       "      <td>23.45</td>\n",
       "      <td>n</td>\n",
       "      <td>S</td>\n",
       "      <td>Miss</td>\n",
       "    </tr>\n",
       "    <tr>\n",
       "      <th>889</th>\n",
       "      <td>890</td>\n",
       "      <td>1</td>\n",
       "      <td>1</td>\n",
       "      <td>Behr, Mr. Karl Howell</td>\n",
       "      <td>male</td>\n",
       "      <td>26.0</td>\n",
       "      <td>0</td>\n",
       "      <td>0</td>\n",
       "      <td>111369</td>\n",
       "      <td>30.00</td>\n",
       "      <td>C</td>\n",
       "      <td>C</td>\n",
       "      <td>Mr</td>\n",
       "    </tr>\n",
       "    <tr>\n",
       "      <th>890</th>\n",
       "      <td>891</td>\n",
       "      <td>0</td>\n",
       "      <td>3</td>\n",
       "      <td>Dooley, Mr. Patrick</td>\n",
       "      <td>male</td>\n",
       "      <td>32.0</td>\n",
       "      <td>0</td>\n",
       "      <td>0</td>\n",
       "      <td>370376</td>\n",
       "      <td>7.75</td>\n",
       "      <td>n</td>\n",
       "      <td>Q</td>\n",
       "      <td>Mr</td>\n",
       "    </tr>\n",
       "  </tbody>\n",
       "</table>\n",
       "</div>"
      ],
      "text/plain": [
       "     PassengerId  Survived  Pclass                                      Name  \\\n",
       "886          887         0       2                     Montvila, Rev. Juozas   \n",
       "887          888         1       1              Graham, Miss. Margaret Edith   \n",
       "888          889         0       3  Johnston, Miss. Catherine Helen \"Carrie\"   \n",
       "889          890         1       1                     Behr, Mr. Karl Howell   \n",
       "890          891         0       3                       Dooley, Mr. Patrick   \n",
       "\n",
       "        Sex   Age  SibSp  Parch      Ticket   Fare Cabin Embarked  Title  \n",
       "886    male  27.0      0      0      211536  13.00     n        S  Other  \n",
       "887  female  19.0      0      0      112053  30.00     B        S   Miss  \n",
       "888  female  24.0      1      2  W./C. 6607  23.45     n        S   Miss  \n",
       "889    male  26.0      0      0      111369  30.00     C        C     Mr  \n",
       "890    male  32.0      0      0      370376   7.75     n        Q     Mr  "
      ]
     },
     "execution_count": 12,
     "metadata": {},
     "output_type": "execute_result"
    }
   ],
   "source": [
    "import math\n",
    "\n",
    "def scrub(filePath):\n",
    "    data = pd.read_csv(filePath)\n",
    "    char_cabin = data['Cabin'].astype(str)\n",
    "    new_cabin = np.array([cabin[0] for cabin in char_cabin])\n",
    "    data['Cabin'] = pd.Categorical(new_cabin)\n",
    "\n",
    "    c1Median = data.Age[data.Pclass == 1].median()\n",
    "    c2Median = data.Age[data.Pclass == 2].median()\n",
    "    c3Median = data.Age[data.Pclass == 3].median()\n",
    "\n",
    "    def medianFor(row):\n",
    "        if (row['Pclass'] == 1):\n",
    "            return c1Median\n",
    "        elif (row['Pclass'] == 2):\n",
    "            return c2Median\n",
    "        elif (row['Pclass'] == 3):\n",
    "            return c3Median\n",
    "        else:\n",
    "            raise Exception('Goofed')\n",
    "    \n",
    "    def updateAge(row):\n",
    "        if (math.isnan(row['Age'])):\n",
    "            median = medianFor(row)\n",
    "            row['Age'] = median\n",
    "        return row\n",
    "    \n",
    "    # Update the missing ages with the median\n",
    "    data = data.apply(updateAge, axis=1)\n",
    "    \n",
    "    new_embarked = np.where(data['Embarked'].isnull()\n",
    "                           , 'S'\n",
    "                           , data['Embarked'])\n",
    "    \n",
    "    data['Embarked'] = new_embarked\n",
    "    \n",
    "    data['Title'] = data['Name'].apply(nameToCategory)\n",
    "    \n",
    "    \n",
    "    return data\n",
    "\n",
    "    \n",
    "completeDf = scrub('train.csv')\n",
    "\n",
    "completeDf.tail()"
   ]
  },
  {
   "cell_type": "markdown",
   "metadata": {},
   "source": [
    "## Splitting the data into train and test"
   ]
  },
  {
   "cell_type": "code",
   "execution_count": 13,
   "metadata": {
    "collapsed": false
   },
   "outputs": [
    {
     "data": {
      "text/plain": [
       "[712, 179]"
      ]
     },
     "execution_count": 13,
     "metadata": {},
     "output_type": "execute_result"
    }
   ],
   "source": [
    "from sklearn.model_selection import train_test_split\n",
    "\n",
    "train, test = train_test_split( completeDf\n",
    "                               , test_size=0.2\n",
    "                               , random_state=1)\n",
    "\n",
    "[len(train), len(test)]"
   ]
  },
  {
   "cell_type": "markdown",
   "metadata": {},
   "source": [
    "## Training and scoring the model"
   ]
  },
  {
   "cell_type": "code",
   "execution_count": 14,
   "metadata": {
    "collapsed": false
   },
   "outputs": [
    {
     "name": "stdout",
     "output_type": "stream",
     "text": [
      "0.800561797753\n"
     ]
    },
    {
     "data": {
      "text/html": [
       "<div>\n",
       "<table border=\"1\" class=\"dataframe\">\n",
       "  <thead>\n",
       "    <tr style=\"text-align: right;\">\n",
       "      <th>Survived</th>\n",
       "      <th>0</th>\n",
       "      <th>1</th>\n",
       "    </tr>\n",
       "    <tr>\n",
       "      <th>row_0</th>\n",
       "      <th></th>\n",
       "      <th></th>\n",
       "    </tr>\n",
       "  </thead>\n",
       "  <tbody>\n",
       "    <tr>\n",
       "      <th>0</th>\n",
       "      <td>384</td>\n",
       "      <td>83</td>\n",
       "    </tr>\n",
       "    <tr>\n",
       "      <th>1</th>\n",
       "      <td>59</td>\n",
       "      <td>186</td>\n",
       "    </tr>\n",
       "  </tbody>\n",
       "</table>\n",
       "</div>"
      ],
      "text/plain": [
       "Survived    0    1\n",
       "row_0             \n",
       "0         384   83\n",
       "1          59  186"
      ]
     },
     "execution_count": 14,
     "metadata": {},
     "output_type": "execute_result"
    }
   ],
   "source": [
    "log_model = trainModel(train)\n",
    "\n",
    "preds = log_model.predict(X=trainFeaturesFor(train))\n",
    "\n",
    "log_train_score = log_model.score( X=trainFeaturesFor(train)\n",
    "                                  , y=train['Survived'])\n",
    "\n",
    "print(log_train_score)\n",
    "pd.crosstab(preds,train[\"Survived\"])"
   ]
  },
  {
   "cell_type": "markdown",
   "metadata": {},
   "source": [
    "## Scoring the model on the test data"
   ]
  },
  {
   "cell_type": "code",
   "execution_count": 15,
   "metadata": {
    "collapsed": false
   },
   "outputs": [
    {
     "name": "stdout",
     "output_type": "stream",
     "text": [
      "0.787709497207\n"
     ]
    },
    {
     "data": {
      "text/html": [
       "<div>\n",
       "<table border=\"1\" class=\"dataframe\">\n",
       "  <thead>\n",
       "    <tr style=\"text-align: right;\">\n",
       "      <th>Survived</th>\n",
       "      <th>0</th>\n",
       "      <th>1</th>\n",
       "    </tr>\n",
       "    <tr>\n",
       "      <th>row_0</th>\n",
       "      <th></th>\n",
       "      <th></th>\n",
       "    </tr>\n",
       "  </thead>\n",
       "  <tbody>\n",
       "    <tr>\n",
       "      <th>0</th>\n",
       "      <td>90</td>\n",
       "      <td>22</td>\n",
       "    </tr>\n",
       "    <tr>\n",
       "      <th>1</th>\n",
       "      <td>16</td>\n",
       "      <td>51</td>\n",
       "    </tr>\n",
       "  </tbody>\n",
       "</table>\n",
       "</div>"
      ],
      "text/plain": [
       "Survived   0   1\n",
       "row_0           \n",
       "0         90  22\n",
       "1         16  51"
      ]
     },
     "execution_count": 15,
     "metadata": {},
     "output_type": "execute_result"
    }
   ],
   "source": [
    "test_preds = log_model.predict(X=trainFeaturesFor(test))\n",
    "\n",
    "log_score = log_model.score( X=trainFeaturesFor(test)\n",
    "                            , y=test['Survived'])\n",
    "print(log_score)\n",
    "pd.crosstab(test_preds, test[\"Survived\"])"
   ]
  },
  {
   "cell_type": "markdown",
   "metadata": {},
   "source": [
    "# Setting up data to be Neural Net friendly"
   ]
  },
  {
   "cell_type": "code",
   "execution_count": 33,
   "metadata": {
    "collapsed": false
   },
   "outputs": [
    {
     "name": "stdout",
     "output_type": "stream",
     "text": [
      "Index([u'PassengerId', u'Survived', u'Pclass', u'Age', u'SibSp', u'Parch',\n",
      "       u'Sex_female', u'Sex_male', u'Cabin_A', u'Cabin_B', u'Cabin_C',\n",
      "       u'Cabin_D', u'Cabin_E', u'Cabin_F', u'Cabin_G', u'Cabin_T', u'Cabin_n',\n",
      "       u'Embarked_C', u'Embarked_Q', u'Embarked_S', u'Title_Master',\n",
      "       u'Title_Miss', u'Title_Mr', u'Title_Mrs', u'Title_Other'],\n",
      "      dtype='object')\n"
     ]
    },
    {
     "data": {
      "text/html": [
       "<div>\n",
       "<table border=\"1\" class=\"dataframe\">\n",
       "  <thead>\n",
       "    <tr style=\"text-align: right;\">\n",
       "      <th></th>\n",
       "      <th>PassengerId</th>\n",
       "      <th>Survived</th>\n",
       "      <th>Pclass</th>\n",
       "      <th>Age</th>\n",
       "      <th>SibSp</th>\n",
       "      <th>Parch</th>\n",
       "      <th>Sex_female</th>\n",
       "      <th>Sex_male</th>\n",
       "      <th>Cabin_A</th>\n",
       "      <th>Cabin_B</th>\n",
       "      <th>...</th>\n",
       "      <th>Cabin_T</th>\n",
       "      <th>Cabin_n</th>\n",
       "      <th>Embarked_C</th>\n",
       "      <th>Embarked_Q</th>\n",
       "      <th>Embarked_S</th>\n",
       "      <th>Title_Master</th>\n",
       "      <th>Title_Miss</th>\n",
       "      <th>Title_Mr</th>\n",
       "      <th>Title_Mrs</th>\n",
       "      <th>Title_Other</th>\n",
       "    </tr>\n",
       "  </thead>\n",
       "  <tbody>\n",
       "    <tr>\n",
       "      <th>886</th>\n",
       "      <td>887</td>\n",
       "      <td>0</td>\n",
       "      <td>2</td>\n",
       "      <td>27.0</td>\n",
       "      <td>0</td>\n",
       "      <td>0</td>\n",
       "      <td>0</td>\n",
       "      <td>1</td>\n",
       "      <td>0</td>\n",
       "      <td>0</td>\n",
       "      <td>...</td>\n",
       "      <td>0</td>\n",
       "      <td>1</td>\n",
       "      <td>0</td>\n",
       "      <td>0</td>\n",
       "      <td>1</td>\n",
       "      <td>0</td>\n",
       "      <td>0</td>\n",
       "      <td>0</td>\n",
       "      <td>0</td>\n",
       "      <td>1</td>\n",
       "    </tr>\n",
       "    <tr>\n",
       "      <th>887</th>\n",
       "      <td>888</td>\n",
       "      <td>1</td>\n",
       "      <td>1</td>\n",
       "      <td>19.0</td>\n",
       "      <td>0</td>\n",
       "      <td>0</td>\n",
       "      <td>1</td>\n",
       "      <td>0</td>\n",
       "      <td>0</td>\n",
       "      <td>1</td>\n",
       "      <td>...</td>\n",
       "      <td>0</td>\n",
       "      <td>0</td>\n",
       "      <td>0</td>\n",
       "      <td>0</td>\n",
       "      <td>1</td>\n",
       "      <td>0</td>\n",
       "      <td>1</td>\n",
       "      <td>0</td>\n",
       "      <td>0</td>\n",
       "      <td>0</td>\n",
       "    </tr>\n",
       "    <tr>\n",
       "      <th>888</th>\n",
       "      <td>889</td>\n",
       "      <td>0</td>\n",
       "      <td>3</td>\n",
       "      <td>24.0</td>\n",
       "      <td>1</td>\n",
       "      <td>2</td>\n",
       "      <td>1</td>\n",
       "      <td>0</td>\n",
       "      <td>0</td>\n",
       "      <td>0</td>\n",
       "      <td>...</td>\n",
       "      <td>0</td>\n",
       "      <td>1</td>\n",
       "      <td>0</td>\n",
       "      <td>0</td>\n",
       "      <td>1</td>\n",
       "      <td>0</td>\n",
       "      <td>1</td>\n",
       "      <td>0</td>\n",
       "      <td>0</td>\n",
       "      <td>0</td>\n",
       "    </tr>\n",
       "    <tr>\n",
       "      <th>889</th>\n",
       "      <td>890</td>\n",
       "      <td>1</td>\n",
       "      <td>1</td>\n",
       "      <td>26.0</td>\n",
       "      <td>0</td>\n",
       "      <td>0</td>\n",
       "      <td>0</td>\n",
       "      <td>1</td>\n",
       "      <td>0</td>\n",
       "      <td>0</td>\n",
       "      <td>...</td>\n",
       "      <td>0</td>\n",
       "      <td>0</td>\n",
       "      <td>1</td>\n",
       "      <td>0</td>\n",
       "      <td>0</td>\n",
       "      <td>0</td>\n",
       "      <td>0</td>\n",
       "      <td>1</td>\n",
       "      <td>0</td>\n",
       "      <td>0</td>\n",
       "    </tr>\n",
       "    <tr>\n",
       "      <th>890</th>\n",
       "      <td>891</td>\n",
       "      <td>0</td>\n",
       "      <td>3</td>\n",
       "      <td>32.0</td>\n",
       "      <td>0</td>\n",
       "      <td>0</td>\n",
       "      <td>0</td>\n",
       "      <td>1</td>\n",
       "      <td>0</td>\n",
       "      <td>0</td>\n",
       "      <td>...</td>\n",
       "      <td>0</td>\n",
       "      <td>1</td>\n",
       "      <td>0</td>\n",
       "      <td>1</td>\n",
       "      <td>0</td>\n",
       "      <td>0</td>\n",
       "      <td>0</td>\n",
       "      <td>1</td>\n",
       "      <td>0</td>\n",
       "      <td>0</td>\n",
       "    </tr>\n",
       "  </tbody>\n",
       "</table>\n",
       "<p>5 rows × 25 columns</p>\n",
       "</div>"
      ],
      "text/plain": [
       "     PassengerId  Survived  Pclass   Age  SibSp  Parch  Sex_female  Sex_male  \\\n",
       "886          887         0       2  27.0      0      0           0         1   \n",
       "887          888         1       1  19.0      0      0           1         0   \n",
       "888          889         0       3  24.0      1      2           1         0   \n",
       "889          890         1       1  26.0      0      0           0         1   \n",
       "890          891         0       3  32.0      0      0           0         1   \n",
       "\n",
       "     Cabin_A  Cabin_B     ...       Cabin_T  Cabin_n  Embarked_C  Embarked_Q  \\\n",
       "886        0        0     ...             0        1           0           0   \n",
       "887        0        1     ...             0        0           0           0   \n",
       "888        0        0     ...             0        1           0           0   \n",
       "889        0        0     ...             0        0           1           0   \n",
       "890        0        0     ...             0        1           0           1   \n",
       "\n",
       "     Embarked_S  Title_Master  Title_Miss  Title_Mr  Title_Mrs  Title_Other  \n",
       "886           1             0           0         0          0            1  \n",
       "887           1             0           1         0          0            0  \n",
       "888           1             0           1         0          0            0  \n",
       "889           0             0           0         1          0            0  \n",
       "890           0             0           0         1          0            0  \n",
       "\n",
       "[5 rows x 25 columns]"
      ]
     },
     "execution_count": 33,
     "metadata": {},
     "output_type": "execute_result"
    }
   ],
   "source": [
    "nn_df = scrub('train.csv')\n",
    "\n",
    "## Dropping Name and Ticket because they get in the way\n",
    "nn_df = nn_df.drop(['Name', 'Ticket', 'Fare'], axis=1)\n",
    "\n",
    "## Getting dummies variables for the categorical data\n",
    "nn_df = pd.get_dummies(nn_df)\n",
    "\n",
    "print(nn_df.columns)\n",
    "\n",
    "nn_df.tail()"
   ]
  },
  {
   "cell_type": "markdown",
   "metadata": {},
   "source": [
    "## Splitting into train and test"
   ]
  },
  {
   "cell_type": "code",
   "execution_count": 28,
   "metadata": {
    "collapsed": false
   },
   "outputs": [
    {
     "data": {
      "text/plain": [
       "[712, 179]"
      ]
     },
     "execution_count": 28,
     "metadata": {},
     "output_type": "execute_result"
    }
   ],
   "source": [
    "from sklearn.model_selection import train_test_split\n",
    "\n",
    "nn_train, nn_test = train_test_split( nn_df\n",
    "                                     , test_size=0.2\n",
    "                                     , random_state=1)\n",
    "\n",
    "[len(train), len(test)]"
   ]
  },
  {
   "cell_type": "code",
   "execution_count": 29,
   "metadata": {
    "collapsed": false
   },
   "outputs": [
    {
     "data": {
      "text/plain": [
       "MLPClassifier(activation='logistic', alpha=0.001, batch_size='auto',\n",
       "       beta_1=0.9, beta_2=0.999, early_stopping=False, epsilon=1e-08,\n",
       "       hidden_layer_sizes=(25, 25), learning_rate='constant',\n",
       "       learning_rate_init=0.001, max_iter=200, momentum=0.9,\n",
       "       nesterovs_momentum=True, power_t=0.5, random_state=1, shuffle=True,\n",
       "       solver='lbfgs', tol=0.0001, validation_fraction=0.1, verbose=False,\n",
       "       warm_start=False)"
      ]
     },
     "execution_count": 29,
     "metadata": {},
     "output_type": "execute_result"
    }
   ],
   "source": [
    "from sklearn.neural_network import MLPClassifier\n",
    "\n",
    "X = nn_train.drop('Survived', axis=1)\n",
    "y = nn_train.Survived\n",
    "\n",
    "clf = MLPClassifier( solver='lbfgs'\n",
    "                    , activation='logistic'\n",
    "                    , alpha=1e-3\n",
    "                    , hidden_layer_sizes=(25, 25)\n",
    "                    , random_state=1)\n",
    "clf.fit(X, y)"
   ]
  },
  {
   "cell_type": "code",
   "execution_count": 30,
   "metadata": {
    "collapsed": false
   },
   "outputs": [
    {
     "name": "stdout",
     "output_type": "stream",
     "text": [
      "0.77094972067\n"
     ]
    },
    {
     "data": {
      "text/html": [
       "<div>\n",
       "<table border=\"1\" class=\"dataframe\">\n",
       "  <thead>\n",
       "    <tr style=\"text-align: right;\">\n",
       "      <th>Survived</th>\n",
       "      <th>0</th>\n",
       "      <th>1</th>\n",
       "    </tr>\n",
       "    <tr>\n",
       "      <th>row_0</th>\n",
       "      <th></th>\n",
       "      <th></th>\n",
       "    </tr>\n",
       "  </thead>\n",
       "  <tbody>\n",
       "    <tr>\n",
       "      <th>0</th>\n",
       "      <td>95</td>\n",
       "      <td>30</td>\n",
       "    </tr>\n",
       "    <tr>\n",
       "      <th>1</th>\n",
       "      <td>11</td>\n",
       "      <td>43</td>\n",
       "    </tr>\n",
       "  </tbody>\n",
       "</table>\n",
       "</div>"
      ],
      "text/plain": [
       "Survived   0   1\n",
       "row_0           \n",
       "0         95  30\n",
       "1         11  43"
      ]
     },
     "execution_count": 30,
     "metadata": {},
     "output_type": "execute_result"
    }
   ],
   "source": [
    "nn_preds = clf.predict(nn_test.drop('Survived', axis=1))\n",
    "\n",
    "nn_train_score = clf.score( X=nn_train.drop('Survived', axis=1)\n",
    "                          , y=nn_train['Survived'])\n",
    "\n",
    "nn_score = clf.score( X=nn_test.drop('Survived', axis=1)\n",
    "                     , y=nn_test[\"Survived\"])\n",
    "\n",
    "print(nn_score)\n",
    "\n",
    "pd.crosstab(nn_preds, nn_test[\"Survived\"])"
   ]
  },
  {
   "cell_type": "code",
   "execution_count": 31,
   "metadata": {
    "collapsed": false
   },
   "outputs": [
    {
     "name": "stdout",
     "output_type": "stream",
     "text": [
      "[0.800561797752809, 0.78770949720670391]\n",
      "[0.8202247191011236, 0.77094972067039103]\n"
     ]
    }
   ],
   "source": [
    "print([log_train_score, log_score])\n",
    "print([nn_train_score, nn_score])\n"
   ]
  },
  {
   "cell_type": "markdown",
   "metadata": {},
   "source": [
    "## Setting up data for submit. "
   ]
  },
  {
   "cell_type": "code",
   "execution_count": 37,
   "metadata": {
    "collapsed": false
   },
   "outputs": [
    {
     "name": "stdout",
     "output_type": "stream",
     "text": [
      "Index([u'PassengerId', u'Pclass', u'Age', u'SibSp', u'Parch', u'Sex_female',\n",
      "       u'Sex_male', u'Cabin_A', u'Cabin_B', u'Cabin_C', u'Cabin_D', u'Cabin_E',\n",
      "       u'Cabin_F', u'Cabin_T', u'Cabin_G', u'Cabin_n', u'Embarked_C',\n",
      "       u'Embarked_Q', u'Embarked_S', u'Title_Master', u'Title_Miss',\n",
      "       u'Title_Mr', u'Title_Mrs', u'Title_Other'],\n",
      "      dtype='object')\n"
     ]
    }
   ],
   "source": [
    "nn_titanic_test = scrub('test.csv')\n",
    "\n",
    "\n",
    "## Dropping Name and Ticket because they get in the way\n",
    "nn_titanic_test = nn_titanic_test.drop(['Name', 'Ticket', 'Fare'], axis=1)\n",
    "\n",
    "## Getting dummies variables for the categorical data\n",
    "nn_titanic_test = pd.get_dummies(nn_titanic_test)\n",
    "\n",
    "nn_titanic_test.insert(13, 'Cabin_T', 0)\n",
    "\n",
    "print(nn_titanic_test.columns)\n",
    "\n",
    "submit_preds = clf.predict( X=nn_titanic_test)\n",
    "\n",
    "# Check if there is anything bad\n",
    "# nn_titanic_test.isnull().any()\n",
    "\n",
    "submission = pd.DataFrame({ \"PassengerId\": nn_titanic_test[\"PassengerId\"]\n",
    "                          , \"Survived\":submit_preds})\n",
    "\n",
    "submission.to_csv( \"submission.csv\"\n",
    "                 , index=False)"
   ]
  },
  {
   "cell_type": "code",
   "execution_count": null,
   "metadata": {
    "collapsed": false
   },
   "outputs": [],
   "source": []
  },
  {
   "cell_type": "code",
   "execution_count": null,
   "metadata": {
    "collapsed": true
   },
   "outputs": [],
   "source": []
  }
 ],
 "metadata": {
  "kernelspec": {
   "display_name": "Python 2",
   "language": "python",
   "name": "python2"
  },
  "language_info": {
   "codemirror_mode": {
    "name": "ipython",
    "version": 2
   },
   "file_extension": ".py",
   "mimetype": "text/x-python",
   "name": "python",
   "nbconvert_exporter": "python",
   "pygments_lexer": "ipython2",
   "version": "2.7.13"
  }
 },
 "nbformat": 4,
 "nbformat_minor": 2
}
