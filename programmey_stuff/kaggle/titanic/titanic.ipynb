{
 "cells": [
  {
   "cell_type": "markdown",
   "metadata": {},
   "source": [
    "# Titanic: this time with cross-validation\n",
    "## And also a Neural Net"
   ]
  },
  {
   "cell_type": "code",
   "execution_count": 1,
   "metadata": {
    "collapsed": false
   },
   "outputs": [],
   "source": [
    "%matplotlib inline"
   ]
  },
  {
   "cell_type": "code",
   "execution_count": 2,
   "metadata": {
    "collapsed": true
   },
   "outputs": [],
   "source": [
    "import numpy as np\n",
    "import pandas as pd\n",
    "import matplotlib\n",
    "import matplotlib.pyplot as plt\n",
    "import scipy.stats as stats\n",
    "matplotlib.style.use('ggplot')"
   ]
  },
  {
   "cell_type": "markdown",
   "metadata": {},
   "source": [
    "# NameToCategory\n",
    "Here, I create a function that's used for creating a \"Title\" feature by pulling out `Mr` `Miss`, etc. \n",
    "\n",
    "For groups that only a few ended up being bucketed into, I made a catch-all `Other` group."
   ]
  },
  {
   "cell_type": "code",
   "execution_count": 3,
   "metadata": {
    "collapsed": true
   },
   "outputs": [],
   "source": []
  },
  {
   "cell_type": "markdown",
   "metadata": {},
   "source": [
    "# Scrub\n",
    "This function reads in a csv, and cleans up the data to fill in missing data"
   ]
  },
  {
   "cell_type": "code",
   "execution_count": 4,
   "metadata": {
    "collapsed": false
   },
   "outputs": [],
   "source": [
    "import math\n",
    "\n",
    "def scrub(filePath):\n",
    "    data = pd.read_csv(filePath)\n",
    "    char_cabin = data['Cabin'].astype(str)\n",
    "    new_cabin = np.array([cabin[0] for cabin in char_cabin])\n",
    "    data['Cabin'] = pd.Categorical(new_cabin)\n",
    "\n",
    "    data['Fare'] = data['Fare'].fillna(data['Fare'].mean())\n",
    "    \n",
    "    c1Median = data.Age[data.Pclass == 1].median()\n",
    "    c2Median = data.Age[data.Pclass == 2].median()\n",
    "    c3Median = data.Age[data.Pclass == 3].median()\n",
    "\n",
    "    def medianFor(row):\n",
    "        if (row['Pclass'] == 1):\n",
    "            return c1Median\n",
    "        elif (row['Pclass'] == 2):\n",
    "            return c2Median\n",
    "        elif (row['Pclass'] == 3):\n",
    "            return c3Median\n",
    "        else:\n",
    "            raise Exception('Goofed')\n",
    "    \n",
    "    def updateAge(row):\n",
    "        if (math.isnan(row['Age'])):\n",
    "            median = medianFor(row)\n",
    "            row['Age'] = median\n",
    "        return row\n",
    "    \n",
    "    # Update the missing ages with the median\n",
    "    data = data.apply(updateAge, axis=1)\n",
    "    \n",
    "    new_embarked = np.where(data['Embarked'].isnull()\n",
    "                           , 'S'\n",
    "                           , data['Embarked'])\n",
    "    \n",
    "    data['Embarked'] = new_embarked\n",
    "    \n",
    "    data['Title'] = data['Name'].apply(nameToCategory)\n",
    "    \n",
    "    \n",
    "    return data"
   ]
  },
  {
   "cell_type": "markdown",
   "metadata": {
    "collapsed": true
   },
   "source": [
    "Here, I make a few functions that are used to munge the data into a certain shape."
   ]
  },
  {
   "cell_type": "code",
   "execution_count": 5,
   "metadata": {
    "collapsed": false
   },
   "outputs": [],
   "source": [
    "from sklearn import linear_model\n",
    "from sklearn import preprocessing\n",
    "\n",
    "label_encoder = label_encoder = preprocessing.LabelEncoder()\n",
    "\n",
    "def trainFeaturesFor(df):\n",
    "    encoded_sex = label_encoder.fit_transform(df[\"Sex\"])\n",
    "    encoded_class = label_encoder.fit_transform(df[\"Pclass\"])\n",
    "    encoded_cabin = label_encoder.fit_transform(df[\"Cabin\"])\n",
    "    encoded_title = label_encoder.fit_transform(df[\"Title\"])\n",
    "    encoded_parch = label_encoder.fit_transform(df[\"Parch\"])\n",
    "\n",
    "    train_features = pd.DataFrame([ encoded_class\n",
    "                                  , encoded_cabin\n",
    "                                  , encoded_sex\n",
    "                                  , encoded_title\n",
    "                                  , encoded_parch\n",
    "                                  , df[\"Age\"]\n",
    "                                  ]).T\n",
    "    return train_features\n",
    "\n",
    "def trainModel(df):\n",
    "    train_features = trainFeaturesFor(df)\n",
    "    log_model = linear_model.LogisticRegression()\n",
    "    log_model.fit( X = train_features\n",
    "                 , y = df[\"Survived\"])\n",
    "    return log_model"
   ]
  },
  {
   "cell_type": "markdown",
   "metadata": {},
   "source": [
    "## Splitting the data into train and test"
   ]
  },
  {
   "cell_type": "code",
   "execution_count": 6,
   "metadata": {
    "collapsed": false
   },
   "outputs": [
    {
     "data": {
      "text/plain": [
       "[712, 179]"
      ]
     },
     "execution_count": 6,
     "metadata": {},
     "output_type": "execute_result"
    }
   ],
   "source": [
    "from sklearn.model_selection import train_test_split\n",
    "\n",
    "completeDf = scrub('train.csv')\n",
    "train, test = train_test_split( completeDf\n",
    "                               , test_size=0.2\n",
    "                               , random_state=1)\n",
    "\n",
    "[len(train), len(test)]"
   ]
  },
  {
   "cell_type": "markdown",
   "metadata": {},
   "source": [
    "## Training and scoring the model"
   ]
  },
  {
   "cell_type": "code",
   "execution_count": 7,
   "metadata": {
    "collapsed": false
   },
   "outputs": [
    {
     "name": "stdout",
     "output_type": "stream",
     "text": [
      "0.800561797753\n"
     ]
    },
    {
     "data": {
      "text/html": [
       "<div>\n",
       "<table border=\"1\" class=\"dataframe\">\n",
       "  <thead>\n",
       "    <tr style=\"text-align: right;\">\n",
       "      <th>Survived</th>\n",
       "      <th>0</th>\n",
       "      <th>1</th>\n",
       "    </tr>\n",
       "    <tr>\n",
       "      <th>row_0</th>\n",
       "      <th></th>\n",
       "      <th></th>\n",
       "    </tr>\n",
       "  </thead>\n",
       "  <tbody>\n",
       "    <tr>\n",
       "      <th>0</th>\n",
       "      <td>384</td>\n",
       "      <td>83</td>\n",
       "    </tr>\n",
       "    <tr>\n",
       "      <th>1</th>\n",
       "      <td>59</td>\n",
       "      <td>186</td>\n",
       "    </tr>\n",
       "  </tbody>\n",
       "</table>\n",
       "</div>"
      ],
      "text/plain": [
       "Survived    0    1\n",
       "row_0             \n",
       "0         384   83\n",
       "1          59  186"
      ]
     },
     "execution_count": 7,
     "metadata": {},
     "output_type": "execute_result"
    }
   ],
   "source": [
    "log_model = trainModel(train)\n",
    "\n",
    "preds = log_model.predict(X=trainFeaturesFor(train))\n",
    "\n",
    "log_train_score = log_model.score( X=trainFeaturesFor(train)\n",
    "                                  , y=train['Survived'])\n",
    "\n",
    "print(log_train_score)\n",
    "pd.crosstab(preds,train[\"Survived\"])"
   ]
  },
  {
   "cell_type": "markdown",
   "metadata": {},
   "source": [
    "## Scoring the model on the test data"
   ]
  },
  {
   "cell_type": "code",
   "execution_count": 8,
   "metadata": {
    "collapsed": false
   },
   "outputs": [
    {
     "name": "stdout",
     "output_type": "stream",
     "text": [
      "0.787709497207\n"
     ]
    },
    {
     "data": {
      "text/html": [
       "<div>\n",
       "<table border=\"1\" class=\"dataframe\">\n",
       "  <thead>\n",
       "    <tr style=\"text-align: right;\">\n",
       "      <th>Survived</th>\n",
       "      <th>0</th>\n",
       "      <th>1</th>\n",
       "    </tr>\n",
       "    <tr>\n",
       "      <th>row_0</th>\n",
       "      <th></th>\n",
       "      <th></th>\n",
       "    </tr>\n",
       "  </thead>\n",
       "  <tbody>\n",
       "    <tr>\n",
       "      <th>0</th>\n",
       "      <td>90</td>\n",
       "      <td>22</td>\n",
       "    </tr>\n",
       "    <tr>\n",
       "      <th>1</th>\n",
       "      <td>16</td>\n",
       "      <td>51</td>\n",
       "    </tr>\n",
       "  </tbody>\n",
       "</table>\n",
       "</div>"
      ],
      "text/plain": [
       "Survived   0   1\n",
       "row_0           \n",
       "0         90  22\n",
       "1         16  51"
      ]
     },
     "execution_count": 8,
     "metadata": {},
     "output_type": "execute_result"
    }
   ],
   "source": [
    "test_preds = log_model.predict(X=trainFeaturesFor(test))\n",
    "\n",
    "log_score = log_model.score( X=trainFeaturesFor(test)\n",
    "                            , y=test['Survived'])\n",
    "print(log_score)\n",
    "pd.crosstab(test_preds, test[\"Survived\"])"
   ]
  },
  {
   "cell_type": "markdown",
   "metadata": {},
   "source": [
    "# Neural Net"
   ]
  },
  {
   "cell_type": "code",
   "execution_count": 9,
   "metadata": {
    "collapsed": true
   },
   "outputs": [],
   "source": [
    "def nn_scrub(df):\n",
    "    df = df.drop(['Name', 'Ticket', 'Fare', 'PassengerId'], axis=1)\n",
    "    \n",
    "    df = pd.get_dummies(df)\n",
    "    return df"
   ]
  },
  {
   "cell_type": "code",
   "execution_count": 10,
   "metadata": {
    "collapsed": false
   },
   "outputs": [
    {
     "data": {
      "text/html": [
       "<div>\n",
       "<table border=\"1\" class=\"dataframe\">\n",
       "  <thead>\n",
       "    <tr style=\"text-align: right;\">\n",
       "      <th></th>\n",
       "      <th>Survived</th>\n",
       "      <th>Pclass</th>\n",
       "      <th>Age</th>\n",
       "      <th>SibSp</th>\n",
       "      <th>Parch</th>\n",
       "      <th>Sex_female</th>\n",
       "      <th>Sex_male</th>\n",
       "      <th>Cabin_A</th>\n",
       "      <th>Cabin_B</th>\n",
       "      <th>Cabin_C</th>\n",
       "      <th>...</th>\n",
       "      <th>Cabin_T</th>\n",
       "      <th>Cabin_n</th>\n",
       "      <th>Embarked_C</th>\n",
       "      <th>Embarked_Q</th>\n",
       "      <th>Embarked_S</th>\n",
       "      <th>Title_Master</th>\n",
       "      <th>Title_Miss</th>\n",
       "      <th>Title_Mr</th>\n",
       "      <th>Title_Mrs</th>\n",
       "      <th>Title_Other</th>\n",
       "    </tr>\n",
       "  </thead>\n",
       "  <tbody>\n",
       "    <tr>\n",
       "      <th>886</th>\n",
       "      <td>0</td>\n",
       "      <td>2</td>\n",
       "      <td>27.0</td>\n",
       "      <td>0</td>\n",
       "      <td>0</td>\n",
       "      <td>0</td>\n",
       "      <td>1</td>\n",
       "      <td>0</td>\n",
       "      <td>0</td>\n",
       "      <td>0</td>\n",
       "      <td>...</td>\n",
       "      <td>0</td>\n",
       "      <td>1</td>\n",
       "      <td>0</td>\n",
       "      <td>0</td>\n",
       "      <td>1</td>\n",
       "      <td>0</td>\n",
       "      <td>0</td>\n",
       "      <td>0</td>\n",
       "      <td>0</td>\n",
       "      <td>1</td>\n",
       "    </tr>\n",
       "    <tr>\n",
       "      <th>887</th>\n",
       "      <td>1</td>\n",
       "      <td>1</td>\n",
       "      <td>19.0</td>\n",
       "      <td>0</td>\n",
       "      <td>0</td>\n",
       "      <td>1</td>\n",
       "      <td>0</td>\n",
       "      <td>0</td>\n",
       "      <td>1</td>\n",
       "      <td>0</td>\n",
       "      <td>...</td>\n",
       "      <td>0</td>\n",
       "      <td>0</td>\n",
       "      <td>0</td>\n",
       "      <td>0</td>\n",
       "      <td>1</td>\n",
       "      <td>0</td>\n",
       "      <td>1</td>\n",
       "      <td>0</td>\n",
       "      <td>0</td>\n",
       "      <td>0</td>\n",
       "    </tr>\n",
       "    <tr>\n",
       "      <th>888</th>\n",
       "      <td>0</td>\n",
       "      <td>3</td>\n",
       "      <td>24.0</td>\n",
       "      <td>1</td>\n",
       "      <td>2</td>\n",
       "      <td>1</td>\n",
       "      <td>0</td>\n",
       "      <td>0</td>\n",
       "      <td>0</td>\n",
       "      <td>0</td>\n",
       "      <td>...</td>\n",
       "      <td>0</td>\n",
       "      <td>1</td>\n",
       "      <td>0</td>\n",
       "      <td>0</td>\n",
       "      <td>1</td>\n",
       "      <td>0</td>\n",
       "      <td>1</td>\n",
       "      <td>0</td>\n",
       "      <td>0</td>\n",
       "      <td>0</td>\n",
       "    </tr>\n",
       "    <tr>\n",
       "      <th>889</th>\n",
       "      <td>1</td>\n",
       "      <td>1</td>\n",
       "      <td>26.0</td>\n",
       "      <td>0</td>\n",
       "      <td>0</td>\n",
       "      <td>0</td>\n",
       "      <td>1</td>\n",
       "      <td>0</td>\n",
       "      <td>0</td>\n",
       "      <td>1</td>\n",
       "      <td>...</td>\n",
       "      <td>0</td>\n",
       "      <td>0</td>\n",
       "      <td>1</td>\n",
       "      <td>0</td>\n",
       "      <td>0</td>\n",
       "      <td>0</td>\n",
       "      <td>0</td>\n",
       "      <td>1</td>\n",
       "      <td>0</td>\n",
       "      <td>0</td>\n",
       "    </tr>\n",
       "    <tr>\n",
       "      <th>890</th>\n",
       "      <td>0</td>\n",
       "      <td>3</td>\n",
       "      <td>32.0</td>\n",
       "      <td>0</td>\n",
       "      <td>0</td>\n",
       "      <td>0</td>\n",
       "      <td>1</td>\n",
       "      <td>0</td>\n",
       "      <td>0</td>\n",
       "      <td>0</td>\n",
       "      <td>...</td>\n",
       "      <td>0</td>\n",
       "      <td>1</td>\n",
       "      <td>0</td>\n",
       "      <td>1</td>\n",
       "      <td>0</td>\n",
       "      <td>0</td>\n",
       "      <td>0</td>\n",
       "      <td>1</td>\n",
       "      <td>0</td>\n",
       "      <td>0</td>\n",
       "    </tr>\n",
       "  </tbody>\n",
       "</table>\n",
       "<p>5 rows × 24 columns</p>\n",
       "</div>"
      ],
      "text/plain": [
       "     Survived  Pclass   Age  SibSp  Parch  Sex_female  Sex_male  Cabin_A  \\\n",
       "886         0       2  27.0      0      0           0         1        0   \n",
       "887         1       1  19.0      0      0           1         0        0   \n",
       "888         0       3  24.0      1      2           1         0        0   \n",
       "889         1       1  26.0      0      0           0         1        0   \n",
       "890         0       3  32.0      0      0           0         1        0   \n",
       "\n",
       "     Cabin_B  Cabin_C     ...       Cabin_T  Cabin_n  Embarked_C  Embarked_Q  \\\n",
       "886        0        0     ...             0        1           0           0   \n",
       "887        1        0     ...             0        0           0           0   \n",
       "888        0        0     ...             0        1           0           0   \n",
       "889        0        1     ...             0        0           1           0   \n",
       "890        0        0     ...             0        1           0           1   \n",
       "\n",
       "     Embarked_S  Title_Master  Title_Miss  Title_Mr  Title_Mrs  Title_Other  \n",
       "886           1             0           0         0          0            1  \n",
       "887           1             0           1         0          0            0  \n",
       "888           1             0           1         0          0            0  \n",
       "889           0             0           0         1          0            0  \n",
       "890           0             0           0         1          0            0  \n",
       "\n",
       "[5 rows x 24 columns]"
      ]
     },
     "execution_count": 10,
     "metadata": {},
     "output_type": "execute_result"
    }
   ],
   "source": [
    "nn_df = scrub('train.csv')\n",
    "nn_df = nn_scrub(nn_df)\n",
    "\n",
    "nn_df.tail()"
   ]
  },
  {
   "cell_type": "markdown",
   "metadata": {},
   "source": [
    "## Splitting into train and test"
   ]
  },
  {
   "cell_type": "code",
   "execution_count": 11,
   "metadata": {
    "collapsed": false
   },
   "outputs": [
    {
     "data": {
      "text/plain": [
       "[712, 179]"
      ]
     },
     "execution_count": 11,
     "metadata": {},
     "output_type": "execute_result"
    }
   ],
   "source": [
    "from sklearn.model_selection import train_test_split\n",
    "\n",
    "nn_train, nn_test = train_test_split( nn_df\n",
    "                                     , test_size=0.2\n",
    "                                     , random_state=3)\n",
    "\n",
    "[len(train), len(test)]"
   ]
  },
  {
   "cell_type": "code",
   "execution_count": 12,
   "metadata": {
    "collapsed": false
   },
   "outputs": [
    {
     "data": {
      "text/plain": [
       "MLPClassifier(activation='logistic', alpha=0.001, batch_size='auto',\n",
       "       beta_1=0.9, beta_2=0.999, early_stopping=False, epsilon=1e-08,\n",
       "       hidden_layer_sizes=(25, 25), learning_rate='constant',\n",
       "       learning_rate_init=0.001, max_iter=200, momentum=0.9,\n",
       "       nesterovs_momentum=True, power_t=0.5, random_state=1, shuffle=True,\n",
       "       solver='lbfgs', tol=0.0001, validation_fraction=0.1, verbose=False,\n",
       "       warm_start=False)"
      ]
     },
     "execution_count": 12,
     "metadata": {},
     "output_type": "execute_result"
    }
   ],
   "source": [
    "from sklearn.neural_network import MLPClassifier\n",
    "\n",
    "X = nn_train.drop('Survived', axis=1)\n",
    "y = nn_train.Survived\n",
    "\n",
    "clf = MLPClassifier( solver='lbfgs'\n",
    "                    , activation='logistic'\n",
    "                    , alpha=1e-3\n",
    "                    , hidden_layer_sizes=(25, 25)\n",
    "                    , random_state=1)\n",
    "clf.fit(X, y)"
   ]
  },
  {
   "cell_type": "code",
   "execution_count": 13,
   "metadata": {
    "collapsed": false
   },
   "outputs": [
    {
     "name": "stdout",
     "output_type": "stream",
     "text": [
      "averageScore=0.821229050279 alpha=3e-05 hiddenLayers=(5, 5, 5)\n",
      "averageScore=0.840223463687 alpha=3e-05 hiddenLayers=(5, 5, 10)\n",
      "averageScore=0.845810055866 alpha=3e-05 hiddenLayers=(5, 10, 20)\n",
      "averageScore=0.846927374302 alpha=3e-05 hiddenLayers=(5, 10, 25)\n",
      "averageScore=0.853631284916 alpha=3e-05 hiddenLayers=(10, 25, 15)\n",
      "Max for alpha of 3e-05:::  nn_score= 0.882681564246 hiddenLayers=(5, 10, 25)\n",
      "averageScore=0.856983240223 alpha=0.0001 hiddenLayers=(10, 20, 20)\n",
      "Max for alpha of 0.0001:::  nn_score= 0.882681564246 hiddenLayers=(15, 5, 15)\n",
      "Max for alpha of 0.0003:::  nn_score= 0.882681564246 hiddenLayers=(5, 20, 5)\n",
      "Max for alpha of 0.001:::  nn_score= 0.888268156425 hiddenLayers=(5, 10, 15)\n"
     ]
    }
   ],
   "source": [
    "sizes = [5, 10, 15, 20, 25]\n",
    "\n",
    "bestScore = 0\n",
    "def classifierFor(alpha, hiddenLayer, X, y):\n",
    "    tempClf = MLPClassifier( solver='lbfgs'\n",
    "                            , activation='logistic'\n",
    "                            , alpha=alpha\n",
    "                            , hidden_layer_sizes=hiddenLayer\n",
    "                            , random_state=1)\n",
    "    tempClf.fit(X, y)\n",
    "    return tempClf\n",
    "\n",
    "\n",
    "for alpha in [3e-5, 1e-4, 3e-4, 1e-3]:\n",
    "    maxForAlpha = 0\n",
    "    for j in sizes:\n",
    "        for k in sizes:\n",
    "            for l in sizes:\n",
    "                hiddenLayer = (j, k, l)\n",
    "                runs = 5\n",
    "                total = 0\n",
    "                for i in range(runs):\n",
    "                    nn_train, nn_test = train_test_split(nn_df, test_size=0.2)\n",
    "                    X = nn_train.drop('Survived', axis=1)\n",
    "                    y = nn_train.Survived\n",
    "                    tempClf = classifierFor(alpha, hiddenLayer, X, y)\n",
    "                    nn_score = tempClf.score( X=nn_test.drop('Survived', axis=1), y=nn_test.Survived)\n",
    "                    total = total + nn_score\n",
    "                averageScore = total / runs\n",
    "                if (averageScore > bestScore):\n",
    "                    bestScore = averageScore\n",
    "                    print('averageScore=' + str(averageScore) + ' alpha=' + str(alpha) + ' hiddenLayers=' + str(hiddenLayer))\n",
    "                    clf = tempClf\n",
    "                if (nn_score > maxForAlpha):\n",
    "                    maxForAlpha = nn_score\n",
    "                    maxForAlphaHidden = hiddenLayer\n",
    "    print('Max for alpha of ' + str(alpha) + ':::  nn_score= ' + str(maxForAlpha) + ' hiddenLayers=' + str(maxForAlphaHidden))\n",
    "\n",
    "# This causes a slight? overfit of the model. Is there a way I can do \n",
    "# something like this to get a good hiddenlayer makeup that's better\n",
    "# than me just randomly guessing?"
   ]
  },
  {
   "cell_type": "code",
   "execution_count": 14,
   "metadata": {
    "collapsed": false
   },
   "outputs": [
    {
     "name": "stdout",
     "output_type": "stream",
     "text": [
      "0.877094972067\n"
     ]
    },
    {
     "data": {
      "text/html": [
       "<div>\n",
       "<table border=\"1\" class=\"dataframe\">\n",
       "  <thead>\n",
       "    <tr style=\"text-align: right;\">\n",
       "      <th>Survived</th>\n",
       "      <th>0</th>\n",
       "      <th>1</th>\n",
       "    </tr>\n",
       "    <tr>\n",
       "      <th>row_0</th>\n",
       "      <th></th>\n",
       "      <th></th>\n",
       "    </tr>\n",
       "  </thead>\n",
       "  <tbody>\n",
       "    <tr>\n",
       "      <th>0</th>\n",
       "      <td>111</td>\n",
       "      <td>16</td>\n",
       "    </tr>\n",
       "    <tr>\n",
       "      <th>1</th>\n",
       "      <td>6</td>\n",
       "      <td>46</td>\n",
       "    </tr>\n",
       "  </tbody>\n",
       "</table>\n",
       "</div>"
      ],
      "text/plain": [
       "Survived    0   1\n",
       "row_0            \n",
       "0         111  16\n",
       "1           6  46"
      ]
     },
     "execution_count": 14,
     "metadata": {},
     "output_type": "execute_result"
    }
   ],
   "source": [
    "nn_preds = clf.predict(nn_test.drop('Survived', axis=1))\n",
    "\n",
    "nn_train_score = clf.score( X=nn_train.drop('Survived', axis=1)\n",
    "                          , y=nn_train['Survived'])\n",
    "\n",
    "nn_score = clf.score( X=nn_test.drop('Survived', axis=1)\n",
    "                     , y=nn_test[\"Survived\"])\n",
    "\n",
    "print(nn_score)\n",
    "\n",
    "pd.crosstab(nn_preds, nn_test[\"Survived\"])"
   ]
  },
  {
   "cell_type": "code",
   "execution_count": 15,
   "metadata": {
    "collapsed": false
   },
   "outputs": [
    {
     "name": "stdout",
     "output_type": "stream",
     "text": [
      "[0.800561797752809, 0.78770949720670391]\n",
      "[0.8455056179775281, 0.87709497206703912]\n"
     ]
    }
   ],
   "source": [
    "print([log_train_score, log_score])\n",
    "print([nn_train_score, nn_score])\n"
   ]
  },
  {
   "cell_type": "markdown",
   "metadata": {},
   "source": [
    "## Setting up data for submit. "
   ]
  },
  {
   "cell_type": "code",
   "execution_count": 16,
   "metadata": {
    "collapsed": false
   },
   "outputs": [],
   "source": [
    "nn_titanic_test = scrub('test.csv')\n",
    "nn_titanic_test = nn_scrub(nn_titanic_test)\n",
    "\n",
    "## Adding a label that doesn't exist in any of the test data. TODO: ask Jeremy if there is a way to do this better?\n",
    "nn_titanic_test.insert(14, 'Cabin_T', 0)\n",
    "\n",
    "submit_preds = clf.predict( X=nn_titanic_test)\n",
    "\n",
    "submission = pd.DataFrame({ \"PassengerId\": scrub('test.csv')[\"PassengerId\"]\n",
    "                          , \"Survived\":submit_preds})\n",
    "\n",
    "submission.to_csv( \"submission.csv\"\n",
    "                 , index=False)"
   ]
  },
  {
   "cell_type": "markdown",
   "metadata": {},
   "source": [
    "## TODO\n",
    "1. Set up a voting classifier that uses the logistic nn model.\n",
    "2. Is a way to do the pd.get_dummies where you can pass in all of the valid values. "
   ]
  },
  {
   "cell_type": "code",
   "execution_count": 17,
   "metadata": {
    "collapsed": false
   },
   "outputs": [
    {
     "name": "stdout",
     "output_type": "stream",
     "text": [
      "I think I need to do something with these\n"
     ]
    }
   ],
   "source": [
    "nnproba_s = clf.predict_proba(nn_test.drop('Survived', axis=1))\n",
    "log_model.predict_proba(trainFeaturesFor(test))\n",
    "print('I think I need to do something with these')"
   ]
  },
  {
   "cell_type": "code",
   "execution_count": null,
   "metadata": {
    "collapsed": true
   },
   "outputs": [],
   "source": []
  }
 ],
 "metadata": {
  "kernelspec": {
   "display_name": "Python 2",
   "language": "python",
   "name": "python2"
  },
  "language_info": {
   "codemirror_mode": {
    "name": "ipython",
    "version": 2
   },
   "file_extension": ".py",
   "mimetype": "text/x-python",
   "name": "python",
   "nbconvert_exporter": "python",
   "pygments_lexer": "ipython2",
   "version": "2.7.13"
  }
 },
 "nbformat": 4,
 "nbformat_minor": 2
}
