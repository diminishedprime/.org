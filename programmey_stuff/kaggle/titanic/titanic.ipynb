{
 "cells": [
  {
   "cell_type": "code",
   "execution_count": 1,
   "metadata": {
    "collapsed": false
   },
   "outputs": [],
   "source": [
    "%matplotlib inline"
   ]
  },
  {
   "cell_type": "code",
   "execution_count": 2,
   "metadata": {
    "collapsed": true
   },
   "outputs": [],
   "source": [
    "import numpy as np\n",
    "import pandas as pd\n",
    "import matplotlib\n",
    "import matplotlib.pyplot as plt\n",
    "import scipy.stats as stats\n",
    "matplotlib.style.use('ggplot')"
   ]
  },
  {
   "cell_type": "code",
   "execution_count": 3,
   "metadata": {
    "collapsed": true
   },
   "outputs": [],
   "source": [
    "# pull out name into something more useful. \n",
    "import re\n",
    "mrPattern = re.compile('.*Mr\\..*')\n",
    "missPattern = re.compile('.*Miss\\..*')\n",
    "masterPattern = re.compile('.*Master\\..*')\n",
    "mrsPattern = re.compile('.*Mrs\\..*')\n",
    "donPattern = re.compile('.*Don\\..*')\n",
    "revPattern = re.compile('.*Rev\\..*')\n",
    "drPattern = re.compile('.*Dr\\..*')\n",
    "mmePattern = re.compile('.*Mme\\..*')\n",
    "msPattern = re.compile('.*Ms\\..*')\n",
    "majorPattern = re.compile('.*Major\\..*')\n",
    "ladyPattern = re.compile('.*Lady\\..*')\n",
    "sirPattern = re.compile('.*Sir\\..*')\n",
    "mllePattern = re.compile('.*Mlle\\..*')\n",
    "colPattern = re.compile('.*Col\\..*')\n",
    "captPattern = re.compile('.*Capt\\..*')\n",
    "countessPattern = re.compile('.*Countess\\..*')\n",
    "jonkheerPattern = re.compile('.*Jonkheer\\..*')\n",
    "\n",
    "def nameToCategory(name):\n",
    "    if (mrPattern.match(name)):\n",
    "        return 'Mr'\n",
    "    elif (jonkheerPattern.match(name)):\n",
    "        return 'Other'\n",
    "    elif (countessPattern.match(name)):\n",
    "        return 'Other'\n",
    "    elif (captPattern.match(name)):\n",
    "        return 'Other'\n",
    "    elif (missPattern.match(name)):\n",
    "        return 'Miss'\n",
    "    elif (masterPattern.match(name)):\n",
    "        return 'Master'\n",
    "    elif (mrsPattern.match(name)):\n",
    "        return 'Mrs'\n",
    "    elif (donPattern.match(name)):\n",
    "        return 'Other'\n",
    "    elif (revPattern.match(name)):\n",
    "        return 'Other'\n",
    "    elif (drPattern.match(name)):\n",
    "        return 'Other'\n",
    "    elif (mmePattern.match(name)):\n",
    "        return 'Mrs'\n",
    "    elif (msPattern.match(name)):\n",
    "        return 'Miss'\n",
    "    elif (majorPattern.match(name)):\n",
    "        return 'Other'\n",
    "    elif (ladyPattern.match(name)):\n",
    "        return 'Other'\n",
    "    elif (sirPattern.match(name)):\n",
    "        return 'Other'\n",
    "    elif (mllePattern.match(name)):\n",
    "        return 'Miss'\n",
    "    elif (colPattern.match(name)):\n",
    "        return 'Other'\n",
    "    return 'Other'\n",
    "#    raise Exception(name)"
   ]
  },
  {
   "cell_type": "code",
   "execution_count": 4,
   "metadata": {
    "collapsed": false
   },
   "outputs": [
    {
     "data": {
      "text/html": [
       "<div>\n",
       "<table border=\"1\" class=\"dataframe\">\n",
       "  <thead>\n",
       "    <tr style=\"text-align: right;\">\n",
       "      <th></th>\n",
       "      <th>PassengerId</th>\n",
       "      <th>Survived</th>\n",
       "      <th>Pclass</th>\n",
       "      <th>Name</th>\n",
       "      <th>Sex</th>\n",
       "      <th>Age</th>\n",
       "      <th>SibSp</th>\n",
       "      <th>Parch</th>\n",
       "      <th>Ticket</th>\n",
       "      <th>Fare</th>\n",
       "      <th>Cabin</th>\n",
       "      <th>Embarked</th>\n",
       "      <th>Title</th>\n",
       "    </tr>\n",
       "  </thead>\n",
       "  <tbody>\n",
       "    <tr>\n",
       "      <th>886</th>\n",
       "      <td>887</td>\n",
       "      <td>0</td>\n",
       "      <td>2</td>\n",
       "      <td>Montvila, Rev. Juozas</td>\n",
       "      <td>male</td>\n",
       "      <td>27.0</td>\n",
       "      <td>0</td>\n",
       "      <td>0</td>\n",
       "      <td>211536</td>\n",
       "      <td>13.00</td>\n",
       "      <td>n</td>\n",
       "      <td>S</td>\n",
       "      <td>Other</td>\n",
       "    </tr>\n",
       "    <tr>\n",
       "      <th>887</th>\n",
       "      <td>888</td>\n",
       "      <td>1</td>\n",
       "      <td>1</td>\n",
       "      <td>Graham, Miss. Margaret Edith</td>\n",
       "      <td>female</td>\n",
       "      <td>19.0</td>\n",
       "      <td>0</td>\n",
       "      <td>0</td>\n",
       "      <td>112053</td>\n",
       "      <td>30.00</td>\n",
       "      <td>B</td>\n",
       "      <td>S</td>\n",
       "      <td>Miss</td>\n",
       "    </tr>\n",
       "    <tr>\n",
       "      <th>888</th>\n",
       "      <td>889</td>\n",
       "      <td>0</td>\n",
       "      <td>3</td>\n",
       "      <td>Johnston, Miss. Catherine Helen \"Carrie\"</td>\n",
       "      <td>female</td>\n",
       "      <td>24.0</td>\n",
       "      <td>1</td>\n",
       "      <td>2</td>\n",
       "      <td>W./C. 6607</td>\n",
       "      <td>23.45</td>\n",
       "      <td>n</td>\n",
       "      <td>S</td>\n",
       "      <td>Miss</td>\n",
       "    </tr>\n",
       "    <tr>\n",
       "      <th>889</th>\n",
       "      <td>890</td>\n",
       "      <td>1</td>\n",
       "      <td>1</td>\n",
       "      <td>Behr, Mr. Karl Howell</td>\n",
       "      <td>male</td>\n",
       "      <td>26.0</td>\n",
       "      <td>0</td>\n",
       "      <td>0</td>\n",
       "      <td>111369</td>\n",
       "      <td>30.00</td>\n",
       "      <td>C</td>\n",
       "      <td>C</td>\n",
       "      <td>Mr</td>\n",
       "    </tr>\n",
       "    <tr>\n",
       "      <th>890</th>\n",
       "      <td>891</td>\n",
       "      <td>0</td>\n",
       "      <td>3</td>\n",
       "      <td>Dooley, Mr. Patrick</td>\n",
       "      <td>male</td>\n",
       "      <td>32.0</td>\n",
       "      <td>0</td>\n",
       "      <td>0</td>\n",
       "      <td>370376</td>\n",
       "      <td>7.75</td>\n",
       "      <td>n</td>\n",
       "      <td>Q</td>\n",
       "      <td>Mr</td>\n",
       "    </tr>\n",
       "  </tbody>\n",
       "</table>\n",
       "</div>"
      ],
      "text/plain": [
       "     PassengerId  Survived  Pclass                                      Name  \\\n",
       "886          887         0       2                     Montvila, Rev. Juozas   \n",
       "887          888         1       1              Graham, Miss. Margaret Edith   \n",
       "888          889         0       3  Johnston, Miss. Catherine Helen \"Carrie\"   \n",
       "889          890         1       1                     Behr, Mr. Karl Howell   \n",
       "890          891         0       3                       Dooley, Mr. Patrick   \n",
       "\n",
       "        Sex   Age  SibSp  Parch      Ticket   Fare Cabin Embarked  Title  \n",
       "886    male  27.0      0      0      211536  13.00     n        S  Other  \n",
       "887  female  19.0      0      0      112053  30.00     B        S   Miss  \n",
       "888  female  24.0      1      2  W./C. 6607  23.45     n        S   Miss  \n",
       "889    male  26.0      0      0      111369  30.00     C        C     Mr  \n",
       "890    male  32.0      0      0      370376   7.75     n        Q     Mr  "
      ]
     },
     "execution_count": 4,
     "metadata": {},
     "output_type": "execute_result"
    }
   ],
   "source": [
    "import math\n",
    "\n",
    "def scrub(filePath):\n",
    "    data = pd.read_csv(filePath)\n",
    "    char_cabin = data['Cabin'].astype(str)\n",
    "    new_cabin = np.array([cabin[0] for cabin in char_cabin])\n",
    "    data['Cabin'] = pd.Categorical(new_cabin)\n",
    "\n",
    "    c1Median = data.Age[data.Pclass == 1].median()\n",
    "    c2Median = data.Age[data.Pclass == 2].median()\n",
    "    c3Median = data.Age[data.Pclass == 3].median()\n",
    "\n",
    "    def medianFor(row):\n",
    "        if (row['Pclass'] == 1):\n",
    "            return c1Median\n",
    "        elif (row['Pclass'] == 2):\n",
    "            return c2Median\n",
    "        elif (row['Pclass'] == 3):\n",
    "            return c3Median\n",
    "        else:\n",
    "            raise Exception('Goofed')\n",
    "    \n",
    "    def updateAge(row):\n",
    "        if (math.isnan(row['Age'])):\n",
    "            median = medianFor(row)\n",
    "            row['Age'] = median\n",
    "        return row\n",
    "    \n",
    "    # Update the missing ages with the median\n",
    "    data = data.apply(updateAge, axis=1)\n",
    "    \n",
    "    data['Title'] = data['Name'].apply(nameToCategory)\n",
    "    \n",
    "    \n",
    "    return data\n",
    "\n",
    "    \n",
    "titanic_train = scrub('train.csv')\n",
    "\n",
    "titanic_train.tail()"
   ]
  },
  {
   "cell_type": "code",
   "execution_count": 5,
   "metadata": {
    "collapsed": true
   },
   "outputs": [],
   "source": [
    "from sklearn import linear_model\n",
    "from sklearn import preprocessing"
   ]
  },
  {
   "cell_type": "code",
   "execution_count": 6,
   "metadata": {
    "collapsed": false
   },
   "outputs": [
    {
     "name": "stdout",
     "output_type": "stream",
     "text": [
      "[ 3.46866195]\n",
      "[[-0.96830619 -0.05656855 -2.42177526 -0.0807839  -0.02580891]]\n"
     ]
    }
   ],
   "source": [
    "label_encoder = label_encoder = preprocessing.LabelEncoder()\n",
    "\n",
    "def trainFeaturesFor(df):\n",
    "    encoded_sex = label_encoder.fit_transform(df[\"Sex\"])\n",
    "    encoded_class = label_encoder.fit_transform(df[\"Pclass\"])\n",
    "    encoded_cabin = label_encoder.fit_transform(df[\"Cabin\"])\n",
    "    encoded_title = label_encoder.fit_transform(df[\"Title\"])\n",
    "\n",
    "    train_features = pd.DataFrame([ encoded_class\n",
    "                                  , encoded_cabin\n",
    "                                  , encoded_sex\n",
    "                                  , encoded_title\n",
    "                                  , df[\"Age\"]\n",
    "                                  ]).T\n",
    "    return train_features\n",
    "\n",
    "def trainModel(df):\n",
    "    train_features = trainFeaturesFor(df)\n",
    "    log_model = linear_model.LogisticRegression()\n",
    "    log_model.fit( X = train_features\n",
    "                 , y = titanic_train[\"Survived\"])\n",
    "    return log_model\n",
    "\n",
    "log_model = trainModel(titanic_train)\n",
    "\n",
    "preds = log_model.predict(X=trainFeaturesFor(titanic_train))\n",
    "\n",
    "print(log_model.intercept_)\n",
    "print(log_model.coef_)"
   ]
  },
  {
   "cell_type": "code",
   "execution_count": 7,
   "metadata": {
    "collapsed": false
   },
   "outputs": [
    {
     "data": {
      "text/html": [
       "<div>\n",
       "<table border=\"1\" class=\"dataframe\">\n",
       "  <thead>\n",
       "    <tr style=\"text-align: right;\">\n",
       "      <th>Survived</th>\n",
       "      <th>0</th>\n",
       "      <th>1</th>\n",
       "    </tr>\n",
       "    <tr>\n",
       "      <th>row_0</th>\n",
       "      <th></th>\n",
       "      <th></th>\n",
       "    </tr>\n",
       "  </thead>\n",
       "  <tbody>\n",
       "    <tr>\n",
       "      <th>0</th>\n",
       "      <td>469</td>\n",
       "      <td>102</td>\n",
       "    </tr>\n",
       "    <tr>\n",
       "      <th>1</th>\n",
       "      <td>80</td>\n",
       "      <td>240</td>\n",
       "    </tr>\n",
       "  </tbody>\n",
       "</table>\n",
       "</div>"
      ],
      "text/plain": [
       "Survived    0    1\n",
       "row_0             \n",
       "0         469  102\n",
       "1          80  240"
      ]
     },
     "execution_count": 7,
     "metadata": {},
     "output_type": "execute_result"
    }
   ],
   "source": [
    "pd.crosstab(preds,titanic_train[\"Survived\"])"
   ]
  },
  {
   "cell_type": "code",
   "execution_count": 8,
   "metadata": {
    "collapsed": false
   },
   "outputs": [
    {
     "data": {
      "text/plain": [
       "0.79573512906846244"
      ]
     },
     "execution_count": 8,
     "metadata": {},
     "output_type": "execute_result"
    }
   ],
   "source": [
    "log_model.score( X=trainFeaturesFor(titanic_train)\n",
    "               , y=titanic_train['Survived'])"
   ]
  },
  {
   "cell_type": "code",
   "execution_count": 9,
   "metadata": {
    "collapsed": true
   },
   "outputs": [],
   "source": [
    "titanic_test = scrub('test.csv')\n",
    "test_features = trainFeaturesFor(titanic_test)\n",
    "test_preds = log_model.predict(X=test_features)\n"
   ]
  },
  {
   "cell_type": "code",
   "execution_count": 12,
   "metadata": {
    "collapsed": false
   },
   "outputs": [],
   "source": []
  },
  {
   "cell_type": "code",
   "execution_count": 13,
   "metadata": {
    "collapsed": false
   },
   "outputs": [],
   "source": [
    "\n",
    "submission = pd.DataFrame({ \"PassengerId\": titanic_test[\"PassengerId\"]\n",
    "                          , \"Survived\":test_preds})\n",
    "\n",
    "submission.to_csv( \"submission.csv\"\n",
    "                 , index=False)\n"
   ]
  },
  {
   "cell_type": "code",
   "execution_count": null,
   "metadata": {
    "collapsed": true
   },
   "outputs": [],
   "source": []
  }
 ],
 "metadata": {
  "kernelspec": {
   "display_name": "Python 2",
   "language": "python",
   "name": "python2"
  },
  "language_info": {
   "codemirror_mode": {
    "name": "ipython",
    "version": 2
   },
   "file_extension": ".py",
   "mimetype": "text/x-python",
   "name": "python",
   "nbconvert_exporter": "python",
   "pygments_lexer": "ipython2",
   "version": "2.7.13"
  }
 },
 "nbformat": 4,
 "nbformat_minor": 2
}
