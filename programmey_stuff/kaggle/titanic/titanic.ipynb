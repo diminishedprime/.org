{
 "cells": [
  {
   "cell_type": "code",
   "execution_count": 1,
   "metadata": {
    "collapsed": false
   },
   "outputs": [],
   "source": [
    "%matplotlib inline"
   ]
  },
  {
   "cell_type": "code",
   "execution_count": 2,
   "metadata": {
    "collapsed": true
   },
   "outputs": [],
   "source": [
    "import numpy as np\n",
    "import pandas as pd\n",
    "import matplotlib\n",
    "import matplotlib.pyplot as plt\n",
    "import scipy.stats as stats\n",
    "matplotlib.style.use('ggplot')"
   ]
  },
  {
   "cell_type": "code",
   "execution_count": 3,
   "metadata": {
    "collapsed": true
   },
   "outputs": [],
   "source": [
    "# pull out name into something more useful. \n",
    "import re\n",
    "mrPattern = re.compile('.*Mr\\..*')\n",
    "missPattern = re.compile('.*Miss\\..*')\n",
    "masterPattern = re.compile('.*Master\\..*')\n",
    "mrsPattern = re.compile('.*Mrs\\..*')\n",
    "donPattern = re.compile('.*Don\\..*')\n",
    "revPattern = re.compile('.*Rev\\..*')\n",
    "drPattern = re.compile('.*Dr\\..*')\n",
    "mmePattern = re.compile('.*Mme\\..*')\n",
    "msPattern = re.compile('.*Ms\\..*')\n",
    "majorPattern = re.compile('.*Major\\..*')\n",
    "ladyPattern = re.compile('.*Lady\\..*')\n",
    "sirPattern = re.compile('.*Sir\\..*')\n",
    "mllePattern = re.compile('.*Mlle\\..*')\n",
    "colPattern = re.compile('.*Col\\..*')\n",
    "captPattern = re.compile('.*Capt\\..*')\n",
    "countessPattern = re.compile('.*Countess\\..*')\n",
    "jonkheerPattern = re.compile('.*Jonkheer\\..*')\n",
    "\n",
    "def nameToCategory(name):\n",
    "    if (mrPattern.match(name)):\n",
    "        return 'Mr'\n",
    "    elif (jonkheerPattern.match(name)):\n",
    "        return 'Other'\n",
    "    elif (countessPattern.match(name)):\n",
    "        return 'Other'\n",
    "    elif (captPattern.match(name)):\n",
    "        return 'Other'\n",
    "    elif (missPattern.match(name)):\n",
    "        return 'Miss'\n",
    "    elif (masterPattern.match(name)):\n",
    "        return 'Master'\n",
    "    elif (mrsPattern.match(name)):\n",
    "        return 'Mrs'\n",
    "    elif (donPattern.match(name)):\n",
    "        return 'Other'\n",
    "    elif (revPattern.match(name)):\n",
    "        return 'Other'\n",
    "    elif (drPattern.match(name)):\n",
    "        return 'Other'\n",
    "    elif (mmePattern.match(name)):\n",
    "        return 'Mrs'\n",
    "    elif (msPattern.match(name)):\n",
    "        return 'Miss'\n",
    "    elif (majorPattern.match(name)):\n",
    "        return 'Other'\n",
    "    elif (ladyPattern.match(name)):\n",
    "        return 'Other'\n",
    "    elif (sirPattern.match(name)):\n",
    "        return 'Other'\n",
    "    elif (mllePattern.match(name)):\n",
    "        return 'Miss'\n",
    "    elif (colPattern.match(name)):\n",
    "        return 'Other'\n",
    "    return 'Other'\n",
    "#    raise Exception(name)"
   ]
  },
  {
   "cell_type": "code",
   "execution_count": 4,
   "metadata": {
    "collapsed": false
   },
   "outputs": [
    {
     "data": {
      "text/html": [
       "<div>\n",
       "<table border=\"1\" class=\"dataframe\">\n",
       "  <thead>\n",
       "    <tr style=\"text-align: right;\">\n",
       "      <th></th>\n",
       "      <th>PassengerId</th>\n",
       "      <th>Survived</th>\n",
       "      <th>Pclass</th>\n",
       "      <th>Name</th>\n",
       "      <th>Sex</th>\n",
       "      <th>Age</th>\n",
       "      <th>SibSp</th>\n",
       "      <th>Parch</th>\n",
       "      <th>Ticket</th>\n",
       "      <th>Fare</th>\n",
       "      <th>Cabin</th>\n",
       "      <th>Embarked</th>\n",
       "      <th>Title</th>\n",
       "    </tr>\n",
       "  </thead>\n",
       "  <tbody>\n",
       "    <tr>\n",
       "      <th>886</th>\n",
       "      <td>887</td>\n",
       "      <td>0</td>\n",
       "      <td>2</td>\n",
       "      <td>Montvila, Rev. Juozas</td>\n",
       "      <td>male</td>\n",
       "      <td>27.0</td>\n",
       "      <td>0</td>\n",
       "      <td>0</td>\n",
       "      <td>211536</td>\n",
       "      <td>13.00</td>\n",
       "      <td>n</td>\n",
       "      <td>S</td>\n",
       "      <td>Other</td>\n",
       "    </tr>\n",
       "    <tr>\n",
       "      <th>887</th>\n",
       "      <td>888</td>\n",
       "      <td>1</td>\n",
       "      <td>1</td>\n",
       "      <td>Graham, Miss. Margaret Edith</td>\n",
       "      <td>female</td>\n",
       "      <td>19.0</td>\n",
       "      <td>0</td>\n",
       "      <td>0</td>\n",
       "      <td>112053</td>\n",
       "      <td>30.00</td>\n",
       "      <td>B</td>\n",
       "      <td>S</td>\n",
       "      <td>Miss</td>\n",
       "    </tr>\n",
       "    <tr>\n",
       "      <th>888</th>\n",
       "      <td>889</td>\n",
       "      <td>0</td>\n",
       "      <td>3</td>\n",
       "      <td>Johnston, Miss. Catherine Helen \"Carrie\"</td>\n",
       "      <td>female</td>\n",
       "      <td>24.0</td>\n",
       "      <td>1</td>\n",
       "      <td>2</td>\n",
       "      <td>W./C. 6607</td>\n",
       "      <td>23.45</td>\n",
       "      <td>n</td>\n",
       "      <td>S</td>\n",
       "      <td>Miss</td>\n",
       "    </tr>\n",
       "    <tr>\n",
       "      <th>889</th>\n",
       "      <td>890</td>\n",
       "      <td>1</td>\n",
       "      <td>1</td>\n",
       "      <td>Behr, Mr. Karl Howell</td>\n",
       "      <td>male</td>\n",
       "      <td>26.0</td>\n",
       "      <td>0</td>\n",
       "      <td>0</td>\n",
       "      <td>111369</td>\n",
       "      <td>30.00</td>\n",
       "      <td>C</td>\n",
       "      <td>C</td>\n",
       "      <td>Mr</td>\n",
       "    </tr>\n",
       "    <tr>\n",
       "      <th>890</th>\n",
       "      <td>891</td>\n",
       "      <td>0</td>\n",
       "      <td>3</td>\n",
       "      <td>Dooley, Mr. Patrick</td>\n",
       "      <td>male</td>\n",
       "      <td>32.0</td>\n",
       "      <td>0</td>\n",
       "      <td>0</td>\n",
       "      <td>370376</td>\n",
       "      <td>7.75</td>\n",
       "      <td>n</td>\n",
       "      <td>Q</td>\n",
       "      <td>Mr</td>\n",
       "    </tr>\n",
       "  </tbody>\n",
       "</table>\n",
       "</div>"
      ],
      "text/plain": [
       "     PassengerId  Survived  Pclass                                      Name  \\\n",
       "886          887         0       2                     Montvila, Rev. Juozas   \n",
       "887          888         1       1              Graham, Miss. Margaret Edith   \n",
       "888          889         0       3  Johnston, Miss. Catherine Helen \"Carrie\"   \n",
       "889          890         1       1                     Behr, Mr. Karl Howell   \n",
       "890          891         0       3                       Dooley, Mr. Patrick   \n",
       "\n",
       "        Sex   Age  SibSp  Parch      Ticket   Fare Cabin Embarked  Title  \n",
       "886    male  27.0      0      0      211536  13.00     n        S  Other  \n",
       "887  female  19.0      0      0      112053  30.00     B        S   Miss  \n",
       "888  female  24.0      1      2  W./C. 6607  23.45     n        S   Miss  \n",
       "889    male  26.0      0      0      111369  30.00     C        C     Mr  \n",
       "890    male  32.0      0      0      370376   7.75     n        Q     Mr  "
      ]
     },
     "execution_count": 4,
     "metadata": {},
     "output_type": "execute_result"
    }
   ],
   "source": [
    "import math\n",
    "\n",
    "def scrub(filePath):\n",
    "    data = pd.read_csv(filePath)\n",
    "    char_cabin = data['Cabin'].astype(str)\n",
    "    new_cabin = np.array([cabin[0] for cabin in char_cabin])\n",
    "    data['Cabin'] = pd.Categorical(new_cabin)\n",
    "\n",
    "    c1Median = data.Age[data.Pclass == 1].median()\n",
    "    c2Median = data.Age[data.Pclass == 2].median()\n",
    "    c3Median = data.Age[data.Pclass == 3].median()\n",
    "\n",
    "    def medianFor(row):\n",
    "        if (row['Pclass'] == 1):\n",
    "            return c1Median\n",
    "        elif (row['Pclass'] == 2):\n",
    "            return c2Median\n",
    "        elif (row['Pclass'] == 3):\n",
    "            return c3Median\n",
    "        else:\n",
    "            raise Exception('Goofed')\n",
    "    \n",
    "    def updateAge(row):\n",
    "        if (math.isnan(row['Age'])):\n",
    "            median = medianFor(row)\n",
    "            row['Age'] = median\n",
    "        return row\n",
    "    \n",
    "    # Update the missing ages with the median\n",
    "    data = data.apply(updateAge, axis=1)\n",
    "    \n",
    "    data['Title'] = data['Name'].apply(nameToCategory)\n",
    "    \n",
    "    \n",
    "    return data\n",
    "\n",
    "    \n",
    "titanic_train = scrub('train.csv')\n",
    "\n",
    "titanic_train.tail()"
   ]
  },
  {
   "cell_type": "code",
   "execution_count": 5,
   "metadata": {
    "collapsed": true
   },
   "outputs": [],
   "source": [
    "from sklearn import linear_model\n",
    "from sklearn import preprocessing"
   ]
  },
  {
   "cell_type": "code",
   "execution_count": 6,
   "metadata": {
    "collapsed": false
   },
   "outputs": [
    {
     "name": "stdout",
     "output_type": "stream",
     "text": [
      "[ 3.46866195]\n",
      "[[-0.96830619 -0.05656855 -2.42177526 -0.0807839  -0.02580891]]\n"
     ]
    }
   ],
   "source": [
    "label_encoder = label_encoder = preprocessing.LabelEncoder()\n",
    "\n",
    "def trainModel(df):\n",
    "    encoded_sex = label_encoder.fit_transform(df[\"Sex\"])\n",
    "    encoded_class = label_encoder.fit_transform(df[\"Pclass\"])\n",
    "    encoded_cabin = label_encoder.fit_transform(df[\"Cabin\"])\n",
    "    encoded_title = label_encoder.fit_transform(df[\"Title\"])\n",
    "\n",
    "    train_features = pd.DataFrame([ encoded_class\n",
    "                                  , encoded_cabin\n",
    "                                  , encoded_sex\n",
    "                                  , encoded_title\n",
    "                                  , df[\"Age\"]\n",
    "                                  ]).T\n",
    "    log_model = linear_model.LogisticRegression()\n",
    "\n",
    "    log_model.fit( X = train_features\n",
    "                 , y = titanic_train[\"Survived\"])\n",
    "    return log_model\n",
    "\n",
    "log_model = trainModel(titanic_train)\n",
    "\n",
    "print(log_model.intercept_)\n",
    "\n",
    "print(log_model.coef_)"
   ]
  },
  {
   "cell_type": "code",
   "execution_count": 8,
   "metadata": {
    "collapsed": true
   },
   "outputs": [],
   "source": [
    "titanic_test = scrub('test.csv')"
   ]
  },
  {
   "cell_type": "code",
   "execution_count": 9,
   "metadata": {
    "collapsed": false
   },
   "outputs": [],
   "source": [
    "encoded_sex = label_encoder.fit_transform(titanic_test['Sex'])\n",
    "encoded_class = label_encoder.fit_transform(titanic_test['Pclass'])\n",
    "encoded_cabin = label_encoder.fit_transform(titanic_test['Cabin'])\n",
    "encoded_title = label_encoder.fit_transform(titanic_test[\"Title\"])\n",
    "\n",
    "\n",
    "test_features = pd.DataFrame([ encoded_class\n",
    "                             , encoded_cabin\n",
    "                             , encoded_sex\n",
    "                             , encoded_title\n",
    "                             , titanic_test['Age']]).T"
   ]
  },
  {
   "cell_type": "code",
   "execution_count": 10,
   "metadata": {
    "collapsed": false
   },
   "outputs": [
    {
     "ename": "ValueError",
     "evalue": "X has 5 features per sample; expecting 1",
     "output_type": "error",
     "traceback": [
      "\u001b[0;31m---------------------------------------------------------------------------\u001b[0m",
      "\u001b[0;31mValueError\u001b[0m                                Traceback (most recent call last)",
      "\u001b[0;32m<ipython-input-10-d650ade6ed99>\u001b[0m in \u001b[0;36m<module>\u001b[0;34m()\u001b[0m\n\u001b[0;32m----> 1\u001b[0;31m \u001b[0mtest_preds\u001b[0m \u001b[0;34m=\u001b[0m \u001b[0mlog_model\u001b[0m\u001b[0;34m.\u001b[0m\u001b[0mpredict\u001b[0m\u001b[0;34m(\u001b[0m\u001b[0mX\u001b[0m\u001b[0;34m=\u001b[0m\u001b[0mtest_features\u001b[0m\u001b[0;34m)\u001b[0m\u001b[0;34m\u001b[0m\u001b[0m\n\u001b[0m\u001b[1;32m      2\u001b[0m \u001b[0;34m\u001b[0m\u001b[0m\n\u001b[1;32m      3\u001b[0m submission = pd.DataFrame({ \"PassengerId\": titanic_test[\"PassengerId\"]\n\u001b[1;32m      4\u001b[0m                           , \"Survived\":test_preds})\n\u001b[1;32m      5\u001b[0m \u001b[0;34m\u001b[0m\u001b[0m\n",
      "\u001b[0;32m/Users/kbvv/anaconda/lib/python2.7/site-packages/sklearn/linear_model/base.pyc\u001b[0m in \u001b[0;36mpredict\u001b[0;34m(self, X)\u001b[0m\n\u001b[1;32m    334\u001b[0m             \u001b[0mPredicted\u001b[0m \u001b[0;32mclass\u001b[0m \u001b[0mlabel\u001b[0m \u001b[0mper\u001b[0m \u001b[0msample\u001b[0m\u001b[0;34m.\u001b[0m\u001b[0;34m\u001b[0m\u001b[0m\n\u001b[1;32m    335\u001b[0m         \"\"\"\n\u001b[0;32m--> 336\u001b[0;31m         \u001b[0mscores\u001b[0m \u001b[0;34m=\u001b[0m \u001b[0mself\u001b[0m\u001b[0;34m.\u001b[0m\u001b[0mdecision_function\u001b[0m\u001b[0;34m(\u001b[0m\u001b[0mX\u001b[0m\u001b[0;34m)\u001b[0m\u001b[0;34m\u001b[0m\u001b[0m\n\u001b[0m\u001b[1;32m    337\u001b[0m         \u001b[0;32mif\u001b[0m \u001b[0mlen\u001b[0m\u001b[0;34m(\u001b[0m\u001b[0mscores\u001b[0m\u001b[0;34m.\u001b[0m\u001b[0mshape\u001b[0m\u001b[0;34m)\u001b[0m \u001b[0;34m==\u001b[0m \u001b[0;36m1\u001b[0m\u001b[0;34m:\u001b[0m\u001b[0;34m\u001b[0m\u001b[0m\n\u001b[1;32m    338\u001b[0m             \u001b[0mindices\u001b[0m \u001b[0;34m=\u001b[0m \u001b[0;34m(\u001b[0m\u001b[0mscores\u001b[0m \u001b[0;34m>\u001b[0m \u001b[0;36m0\u001b[0m\u001b[0;34m)\u001b[0m\u001b[0;34m.\u001b[0m\u001b[0mastype\u001b[0m\u001b[0;34m(\u001b[0m\u001b[0mnp\u001b[0m\u001b[0;34m.\u001b[0m\u001b[0mint\u001b[0m\u001b[0;34m)\u001b[0m\u001b[0;34m\u001b[0m\u001b[0m\n",
      "\u001b[0;32m/Users/kbvv/anaconda/lib/python2.7/site-packages/sklearn/linear_model/base.pyc\u001b[0m in \u001b[0;36mdecision_function\u001b[0;34m(self, X)\u001b[0m\n\u001b[1;32m    315\u001b[0m         \u001b[0;32mif\u001b[0m \u001b[0mX\u001b[0m\u001b[0;34m.\u001b[0m\u001b[0mshape\u001b[0m\u001b[0;34m[\u001b[0m\u001b[0;36m1\u001b[0m\u001b[0;34m]\u001b[0m \u001b[0;34m!=\u001b[0m \u001b[0mn_features\u001b[0m\u001b[0;34m:\u001b[0m\u001b[0;34m\u001b[0m\u001b[0m\n\u001b[1;32m    316\u001b[0m             raise ValueError(\"X has %d features per sample; expecting %d\"\n\u001b[0;32m--> 317\u001b[0;31m                              % (X.shape[1], n_features))\n\u001b[0m\u001b[1;32m    318\u001b[0m \u001b[0;34m\u001b[0m\u001b[0m\n\u001b[1;32m    319\u001b[0m         scores = safe_sparse_dot(X, self.coef_.T,\n",
      "\u001b[0;31mValueError\u001b[0m: X has 5 features per sample; expecting 1"
     ]
    }
   ],
   "source": [
    "test_preds = log_model.predict(X=test_features)\n",
    "\n",
    "submission = pd.DataFrame({ \"PassengerId\": titanic_test[\"PassengerId\"]\n",
    "                          , \"Survived\":test_preds})\n",
    "\n",
    "submission.to_csv( \"submission.csv\"\n",
    "                 , index=False)\n"
   ]
  },
  {
   "cell_type": "code",
   "execution_count": null,
   "metadata": {
    "collapsed": true
   },
   "outputs": [],
   "source": []
  }
 ],
 "metadata": {
  "kernelspec": {
   "display_name": "Python 2",
   "language": "python",
   "name": "python2"
  },
  "language_info": {
   "codemirror_mode": {
    "name": "ipython",
    "version": 2
   },
   "file_extension": ".py",
   "mimetype": "text/x-python",
   "name": "python",
   "nbconvert_exporter": "python",
   "pygments_lexer": "ipython2",
   "version": "2.7.13"
  }
 },
 "nbformat": 4,
 "nbformat_minor": 2
}
